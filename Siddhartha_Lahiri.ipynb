{
 "cells": [
  {
   "cell_type": "markdown",
   "id": "cbe5f41c",
   "metadata": {},
   "source": [
    "# Lending Club Case Study"
   ]
  },
  {
   "cell_type": "code",
   "execution_count": 43,
   "id": "e6f25306",
   "metadata": {},
   "outputs": [],
   "source": [
    "# Importing core libraries required for the case study\n",
    "import numpy as np\n",
    "import pandas as pd\n",
    "import matplotlib.pyplot as plot\n",
    "import seaborn as sea"
   ]
  },
  {
   "cell_type": "markdown",
   "id": "8f365196",
   "metadata": {},
   "source": [
    "## Loading Data"
   ]
  },
  {
   "cell_type": "code",
   "execution_count": 44,
   "id": "2b363dd1",
   "metadata": {},
   "outputs": [],
   "source": [
    "# Loading the complete dataset into variable df\n",
    "df = pd.read_csv('data/loan.csv', low_memory=False)\n",
    "\n",
    "# Save the original row count in a variable\n",
    "rowcount = len(df)"
   ]
  },
  {
   "cell_type": "markdown",
   "id": "61611a50",
   "metadata": {},
   "source": [
    "## Data Cleaning"
   ]
  },
  {
   "cell_type": "code",
   "execution_count": 45,
   "id": "fb459ee9",
   "metadata": {},
   "outputs": [],
   "source": [
    "# Dropping all the columns whose all the records are NaN or Null\n",
    "df1 = df.dropna(axis='columns', how=\"all\")\n",
    "\n",
    "# Dropping all columns with all zero values\n",
    "df1 = df1.loc[:, (df1 != 0).any(axis=0)]\n",
    "df1.shape\n",
    "\n",
    "# Dropping columns who dont contribute to the overall analysis as they are either transactional ir discriptive in nature\n",
    "df1 = df1.drop(['id','member_id', 'url', 'emp_title', 'desc', 'title'],  axis=1)"
   ]
  },
  {
   "cell_type": "code",
   "execution_count": 46,
   "id": "132295b9",
   "metadata": {},
   "outputs": [],
   "source": [
    "# Function to Drop all columns who have constant values (ignoring NA value)\n",
    "def drop_constant_columns(df):\n",
    "    for c in df.columns:\n",
    "        if df[c].nunique(dropna=True) == 1:\n",
    "            df = df.drop(c, axis=1)\n",
    "    return df\n",
    "\n",
    "# Drop all constant columns from df1 (definition of constant is constant value across the rows, this ignores Na values)\n",
    "df1 = drop_constant_columns(df1)"
   ]
  },
  {
   "cell_type": "code",
   "execution_count": 47,
   "id": "284d7da2",
   "metadata": {
    "scrolled": false
   },
   "outputs": [
    {
     "name": "stdout",
     "output_type": "stream",
     "text": [
      "<class 'pandas.core.frame.DataFrame'>\n",
      "RangeIndex: 39717 entries, 0 to 39716\n",
      "Data columns (total 42 columns):\n",
      " #   Column                   Non-Null Count  Dtype  \n",
      "---  ------                   --------------  -----  \n",
      " 0   loan_amnt                39717 non-null  int64  \n",
      " 1   funded_amnt              39717 non-null  int64  \n",
      " 2   funded_amnt_inv          39717 non-null  float64\n",
      " 3   term                     39717 non-null  object \n",
      " 4   int_rate                 39717 non-null  object \n",
      " 5   installment              39717 non-null  float64\n",
      " 6   grade                    39717 non-null  object \n",
      " 7   sub_grade                39717 non-null  object \n",
      " 8   emp_length               38642 non-null  object \n",
      " 9   home_ownership           39717 non-null  object \n",
      " 10  annual_inc               39717 non-null  float64\n",
      " 11  verification_status      39717 non-null  object \n",
      " 12  issue_d                  39717 non-null  object \n",
      " 13  loan_status              39717 non-null  object \n",
      " 14  purpose                  39717 non-null  object \n",
      " 15  zip_code                 39717 non-null  object \n",
      " 16  addr_state               39717 non-null  object \n",
      " 17  dti                      39717 non-null  float64\n",
      " 18  delinq_2yrs              39717 non-null  int64  \n",
      " 19  earliest_cr_line         39717 non-null  object \n",
      " 20  inq_last_6mths           39717 non-null  int64  \n",
      " 21  mths_since_last_delinq   14035 non-null  float64\n",
      " 22  mths_since_last_record   2786 non-null   float64\n",
      " 23  open_acc                 39717 non-null  int64  \n",
      " 24  pub_rec                  39717 non-null  int64  \n",
      " 25  revol_bal                39717 non-null  int64  \n",
      " 26  revol_util               39667 non-null  object \n",
      " 27  total_acc                39717 non-null  int64  \n",
      " 28  out_prncp                39717 non-null  float64\n",
      " 29  out_prncp_inv            39717 non-null  float64\n",
      " 30  total_pymnt              39717 non-null  float64\n",
      " 31  total_pymnt_inv          39717 non-null  float64\n",
      " 32  total_rec_prncp          39717 non-null  float64\n",
      " 33  total_rec_int            39717 non-null  float64\n",
      " 34  total_rec_late_fee       39717 non-null  float64\n",
      " 35  recoveries               39717 non-null  float64\n",
      " 36  collection_recovery_fee  39717 non-null  float64\n",
      " 37  last_pymnt_d             39646 non-null  object \n",
      " 38  last_pymnt_amnt          39717 non-null  float64\n",
      " 39  next_pymnt_d             1140 non-null   object \n",
      " 40  last_credit_pull_d       39715 non-null  object \n",
      " 41  pub_rec_bankruptcies     39020 non-null  float64\n",
      "dtypes: float64(17), int64(8), object(17)\n",
      "memory usage: 12.7+ MB\n",
      "None\n"
     ]
    }
   ],
   "source": [
    "# Printing column info to analyse missing values, empty values in a column\n",
    "print(df1.info())"
   ]
  },
  {
   "cell_type": "markdown",
   "id": "0ebf2241",
   "metadata": {},
   "source": [
    "## Saving Data Snapshot"
   ]
  },
  {
   "cell_type": "code",
   "execution_count": 48,
   "id": "f3c8da66",
   "metadata": {},
   "outputs": [],
   "source": [
    "# Save a cleaned snapshot to disk for some manual analysis\n",
    "df1.to_csv('./data/loan_clensed.csv')"
   ]
  },
  {
   "cell_type": "code",
   "execution_count": null,
   "id": "b6984fc6",
   "metadata": {},
   "outputs": [],
   "source": []
  }
 ],
 "metadata": {
  "kernelspec": {
   "display_name": "Python 3 (ipykernel)",
   "language": "python",
   "name": "python3"
  },
  "language_info": {
   "codemirror_mode": {
    "name": "ipython",
    "version": 3
   },
   "file_extension": ".py",
   "mimetype": "text/x-python",
   "name": "python",
   "nbconvert_exporter": "python",
   "pygments_lexer": "ipython3",
   "version": "3.9.7"
  }
 },
 "nbformat": 4,
 "nbformat_minor": 5
}
