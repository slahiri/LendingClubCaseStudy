{
 "cells": [
  {
   "cell_type": "markdown",
   "id": "cbe5f41c",
   "metadata": {},
   "source": [
    "# Lending Club Case Study"
   ]
  },
  {
   "cell_type": "code",
   "execution_count": 54,
   "id": "e6f25306",
   "metadata": {},
   "outputs": [],
   "source": [
    "# Importing core libraries required for the case study\n",
    "import numpy as np\n",
    "import pandas as pd\n",
    "import matplotlib.pyplot as plot\n",
    "import seaborn as sea"
   ]
  },
  {
   "cell_type": "markdown",
   "id": "8f365196",
   "metadata": {},
   "source": [
    "## Loading Data"
   ]
  },
  {
   "cell_type": "code",
   "execution_count": 78,
   "id": "2b363dd1",
   "metadata": {},
   "outputs": [
    {
     "data": {
      "text/plain": [
       "(39717, 111)"
      ]
     },
     "execution_count": 78,
     "metadata": {},
     "output_type": "execute_result"
    }
   ],
   "source": [
    "# Loading the complete dataset into variable df\n",
    "df_loan = pd.read_csv('data/loan.csv', low_memory=False)\n",
    "\n",
    "# Save the original row count in a variable\n",
    "rowcount = len(df_loan)\n",
    "original_columns = df_loan.columns\n",
    "df_loan.shape"
   ]
  },
  {
   "cell_type": "markdown",
   "id": "61611a50",
   "metadata": {},
   "source": [
    "## Dropping redundant columns w.r.t. the case study"
   ]
  },
  {
   "cell_type": "code",
   "execution_count": 79,
   "id": "fb459ee9",
   "metadata": {},
   "outputs": [
    {
     "data": {
      "text/plain": [
       "(39717, 105)"
      ]
     },
     "execution_count": 79,
     "metadata": {},
     "output_type": "execute_result"
    }
   ],
   "source": [
    "# Dropping columns who dont contribute to the overall analysis as they are either transactional ir discriptive in nature\n",
    "# Dropping column sub_grade as the current analysis will li\n",
    "df_clean = df_loan.drop(['id','member_id', 'url', 'emp_title', 'desc', 'title', 'sub_grade'],  axis=1)\n",
    "df_clean.shape"
   ]
  },
  {
   "cell_type": "markdown",
   "id": "e25d33e8",
   "metadata": {},
   "source": [
    "## Dropping columns representing customer behaviour"
   ]
  },
  {
   "cell_type": "code",
   "execution_count": 80,
   "id": "22c7cbb7",
   "metadata": {},
   "outputs": [
    {
     "data": {
      "text/plain": [
       "(39717, 84)"
      ]
     },
     "execution_count": 80,
     "metadata": {},
     "output_type": "execute_result"
    }
   ],
   "source": [
    "\n",
    "# Dropping all columns which refer to behavoural data. \n",
    "# Behaviour data of the customers are captured post the loan approval\n",
    "# The data is not available at the time of loan approval and thus cannot be used for calculations\n",
    "df_clean = df_clean.drop(['delinq_2yrs', 'earliest_cr_line', \n",
    "                          'inq_last_6mths', 'open_acc', 'pub_rec', \n",
    "                          'revol_bal', 'revol_util', 'total_acc', \n",
    "                          'out_prncp', 'out_prncp_inv', 'total_pymnt', \n",
    "                          'total_pymnt_inv', 'total_rec_prncp', \n",
    "                          'total_rec_int', 'total_rec_late_fee', 'recoveries', \n",
    "                          'collection_recovery_fee', 'last_pymnt_d', \n",
    "                          'last_pymnt_amnt', 'last_credit_pull_d', \n",
    "                          'application_type'],  axis=1)\n",
    "df_clean.shape"
   ]
  },
  {
   "cell_type": "markdown",
   "id": "393f692f",
   "metadata": {},
   "source": [
    "## Dropping all columns having all NA values"
   ]
  },
  {
   "cell_type": "code",
   "execution_count": 81,
   "id": "3c40ad78",
   "metadata": {},
   "outputs": [
    {
     "data": {
      "text/plain": [
       "(39717, 30)"
      ]
     },
     "execution_count": 81,
     "metadata": {},
     "output_type": "execute_result"
    }
   ],
   "source": [
    "# Dropping all the columns whose all the records are NaN or Null\n",
    "df_clean = df_clean.dropna(axis='columns', how=\"all\")\n",
    "df_clean.shape"
   ]
  },
  {
   "cell_type": "markdown",
   "id": "3af6f1b8",
   "metadata": {},
   "source": [
    "## Dropping all columns having all Zero values"
   ]
  },
  {
   "cell_type": "code",
   "execution_count": 82,
   "id": "d35350b8",
   "metadata": {},
   "outputs": [
    {
     "data": {
      "text/plain": [
       "(39717, 28)"
      ]
     },
     "execution_count": 82,
     "metadata": {},
     "output_type": "execute_result"
    }
   ],
   "source": [
    "# Dropping all columns with all zero values\n",
    "df_clean = df_clean.loc[:, (df_clean != 0).any(axis=0)]\n",
    "df_clean.shape"
   ]
  },
  {
   "cell_type": "markdown",
   "id": "c4c276c7",
   "metadata": {},
   "source": [
    "## Dropping all columns constant values"
   ]
  },
  {
   "cell_type": "code",
   "execution_count": 83,
   "id": "132295b9",
   "metadata": {},
   "outputs": [
    {
     "data": {
      "text/plain": [
       "(39717, 22)"
      ]
     },
     "execution_count": 83,
     "metadata": {},
     "output_type": "execute_result"
    }
   ],
   "source": [
    "# Function to Drop all columns who have constant values (ignoring NA value)\n",
    "def drop_constant_columns(df):\n",
    "    for c in df.columns:\n",
    "        if df[c].nunique(dropna=True) == 1:\n",
    "            df = df.drop(c, axis=1)\n",
    "    return df\n",
    "\n",
    "# Drop all constant columns from df1 (definition of constant is constant value across the rows, this ignores Na values)\n",
    "df_clean = drop_constant_columns(df_clean)\n",
    "df_clean.shape"
   ]
  },
  {
   "cell_type": "markdown",
   "id": "a3135e3b",
   "metadata": {},
   "source": [
    "## Removing all rows where loan_status = Current"
   ]
  },
  {
   "cell_type": "code",
   "execution_count": 84,
   "id": "06943b78",
   "metadata": {},
   "outputs": [
    {
     "data": {
      "text/plain": [
       "(38577, 22)"
      ]
     },
     "execution_count": 84,
     "metadata": {},
     "output_type": "execute_result"
    }
   ],
   "source": [
    "# The rows where loan_stats=Current are the data where the loan repayment is currently in progress\n",
    "# The loans which are currently in progress will not contribute to decisions of default or pass as it's difficult to predict the outcome\n",
    "df_clean = df_clean[df_clean['loan_status'] != \"Current\"]\n",
    "df_clean.shape"
   ]
  },
  {
   "cell_type": "code",
   "execution_count": 85,
   "id": "284d7da2",
   "metadata": {
    "scrolled": false
   },
   "outputs": [
    {
     "name": "stdout",
     "output_type": "stream",
     "text": [
      "<class 'pandas.core.frame.DataFrame'>\n",
      "Int64Index: 38577 entries, 0 to 39716\n",
      "Data columns (total 22 columns):\n",
      " #   Column                  Non-Null Count  Dtype  \n",
      "---  ------                  --------------  -----  \n",
      " 0   loan_amnt               38577 non-null  int64  \n",
      " 1   funded_amnt             38577 non-null  int64  \n",
      " 2   funded_amnt_inv         38577 non-null  float64\n",
      " 3   term                    38577 non-null  object \n",
      " 4   int_rate                38577 non-null  object \n",
      " 5   installment             38577 non-null  float64\n",
      " 6   grade                   38577 non-null  object \n",
      " 7   sub_grade               38577 non-null  object \n",
      " 8   emp_length              37544 non-null  object \n",
      " 9   home_ownership          38577 non-null  object \n",
      " 10  annual_inc              38577 non-null  float64\n",
      " 11  verification_status     38577 non-null  object \n",
      " 12  issue_d                 38577 non-null  object \n",
      " 13  loan_status             38577 non-null  object \n",
      " 14  purpose                 38577 non-null  object \n",
      " 15  zip_code                38577 non-null  object \n",
      " 16  addr_state              38577 non-null  object \n",
      " 17  dti                     38577 non-null  float64\n",
      " 18  mths_since_last_delinq  13672 non-null  float64\n",
      " 19  mths_since_last_record  2740 non-null   float64\n",
      " 20  next_pymnt_d            0 non-null      object \n",
      " 21  pub_rec_bankruptcies    37880 non-null  float64\n",
      "dtypes: float64(7), int64(2), object(13)\n",
      "memory usage: 6.8+ MB\n",
      "None\n"
     ]
    }
   ],
   "source": [
    "# Printing column info to analyse missing values, empty values in a column\n",
    "print(df_clean.info())"
   ]
  },
  {
   "cell_type": "markdown",
   "id": "0ebf2241",
   "metadata": {},
   "source": [
    "## Saving Data Snapshot"
   ]
  },
  {
   "cell_type": "code",
   "execution_count": 86,
   "id": "f3c8da66",
   "metadata": {},
   "outputs": [],
   "source": [
    "# Save a cleaned snapshot to disk for some manual analysis\n",
    "df_clean.to_csv('./data/loan_clensed.csv')"
   ]
  },
  {
   "cell_type": "code",
   "execution_count": null,
   "id": "4e5eba62",
   "metadata": {},
   "outputs": [],
   "source": []
  }
 ],
 "metadata": {
  "kernelspec": {
   "display_name": "Python 3 (ipykernel)",
   "language": "python",
   "name": "python3"
  },
  "language_info": {
   "codemirror_mode": {
    "name": "ipython",
    "version": 3
   },
   "file_extension": ".py",
   "mimetype": "text/x-python",
   "name": "python",
   "nbconvert_exporter": "python",
   "pygments_lexer": "ipython3",
   "version": "3.10.4"
  }
 },
 "nbformat": 4,
 "nbformat_minor": 5
}
