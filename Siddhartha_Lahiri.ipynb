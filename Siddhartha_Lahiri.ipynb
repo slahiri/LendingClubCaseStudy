{
 "cells": [
  {
   "cell_type": "markdown",
   "id": "9ec63a1f",
   "metadata": {},
   "source": [
    "# Lending Club Case Study"
   ]
  },
  {
   "cell_type": "markdown",
   "id": "995dbebd",
   "metadata": {},
   "source": [
    "[![Open In Colab](https://colab.research.google.com/assets/colab-badge.svg)](https://colab.research.google.com/github/slahiri/LendingClubCaseStudy/blob/master/Siddhartha_Lahiri.ipynb)"
   ]
  },
  {
   "cell_type": "markdown",
   "id": "762c241c",
   "metadata": {},
   "source": [
    "## Problem Statement\n",
    "\n",
    "Lending Club is a consumer finance marketplace for personal loans that matches borrowers who are seeking a loan with investors looking to lend money and make a return.\n",
    "\n",
    "It specialises in lending various types of loans to urban customers. When the company receives a loan application, the company has to make a decision for loan approval based on the applicant's profile.\n",
    "\n",
    "Like most other lending companies, *lending loans to ‘risky’* applicants is the largest source of financial loss *(called credit loss)*. The credit loss is the amount of money lost by the lender when the borrower refuses to pay or runs away with the money owed.\n",
    "\n",
    "In other words, **borrowers** who **default** cause the largest amount of **loss to the lenders**. In this case, the customers labelled as *'charged-off' are the 'defaulters'*.\n",
    "\n",
    "The core objective of the excercise is to **help the company minimise the credit loss**. There are two potential sources of **credit loss** are:\n",
    "* Applicant **likely to repay the loan**, such an applicant will bring in profit to the company with interest rates.** Rejecting such applicants will result in loss of business**.\n",
    "* Applicant **not likely to repay** the loan, i.e. and will potentially default, then approving the loan may lead to a financial loss* for the company"
   ]
  },
  {
   "cell_type": "markdown",
   "id": "d54ad3cd",
   "metadata": {},
   "source": [
    "## Objectives\n",
    "The goal is to *identify these risky loan applicants*, then such loans can be reduced thereby cutting down the amount of credit loss. Identification of such applicants using EDA using the given [dataset](./data/loan.csv), is the aim of this case study.\n",
    "\n",
    "If one is able to *identify these risky loan applicants*, then such loans can be reduced thereby cutting down the amount of credit loss. Identification of such applicants using EDA is the aim of this case study.\n",
    "\n",
    "In other words, **the company wants to understand the driving factors (or driver variables)** behind loan default, i.e. the variables which are strong indicators of default.  The company can utilise this knowledge for its portfolio and risk assessment. "
   ]
  },
  {
   "cell_type": "markdown",
   "id": "7b8fc1a7",
   "metadata": {},
   "source": [
    "## DataSet Analysis\n",
    "\n",
    "The data given below contains the information about past loan applicants and whether they ‘defaulted’ or not. The aim is to identify patterns which indicate if a person is likely to default, which may be used for taking actions such as denying the loan, reducing the amount of loan, lending (to risky applicants) at a higher interest rate, etc.\n",
    "\n",
    "- The dataset reflects loans post approval, thus does not represent any information on the rejection criteria process\n",
    "    - Overall objective will be to observe key leading indicaters (driver variables) in the dataset, which contribute to defaulters\n",
    "    - Use the analysis as a the foundation of the hypothesis\n",
    "- The overall loan process is represented by three steps\n",
    "    - Potential borrower requests for loan amount (loan_amnt)\n",
    "    - The approver approves/rejects an amount based on past history/risk (funded_amnt)\n",
    "    - The final amount offered as loan by the investor (funded_amnt_inv)\n",
    "\n",
    "### Analysis based on Domain Understanding\n",
    "\n",
    "#### Leading Attribute\n",
    "- *Loan Status* - Key Leading Attribute (*loan_status*). The column has three distinct values\n",
    "    - Fully-Paid - The customer has successfuly paid the loan\n",
    "    - Charged-Off - The customer is \"Charged-Off\" ir has \"Defaulted\"\n",
    "    - Current - These customers, the loan is currently in progress and cannot contribute to conclusive evidence if the customer will default of pay in future\n",
    "        - For the given case study, \"Current\" status rows will be ignored\n",
    "\n",
    "#### Decision Matrix\n",
    "* *Loan Accepted* - Three Scenarios\n",
    "    * *Fully Paid* -  Applicant has fully paid the loan (the principal and the interest rate)\n",
    "    * *Current* - Applicant is in the process of paying the instalments, i.e. the tenure of the loan is not yet completed. These candidates are not labelled as 'defaulted'.\n",
    "    * *Charged-off* - Applicant has not paid the instalments in due time for a long period of time, i.e. he/she has *defaulted* on the loan \n",
    "* *Loan Rejected* - The company had rejected the loan (because the candidate does not meet their requirements etc.). Since the loan was rejected, there is no transactional history of those applicants with the company and so this data is not available with the company (and thus in this dataset)\n",
    "\n",
    "#### Important Columns\n",
    "The given columns are leading attributes, or **predictors**. These attributes are available at the time of the loan application and strongly helps in **prediction** of loan pass or rejection. Key attributes *Some of these columns may get dropped due to empty data in the dataset*\n",
    "* **Customer Demographics**\n",
    "  * Annual Income (annual_inc) - Annual income of the customer. Generally higher the income, more chances of loan pass\n",
    "  * Home Ownership (home_ownership) - Wether the customer owns a home or stays rented. Owning a home adds a collateral which increases the chances of loan pass.\n",
    "  * Employment Length (emp_length) - Employment tenure of a customer (this is overall tenure). Higher the tenure, more financial stablity, thus higher chances of loan pass\n",
    "  * Debt to Income (dti) - The percentage of the salary which goes towards paying loan. Lower DTI, higher the chances of a loan pass.\n",
    "  * State (addr_state) - Location of the customer. Can be used to create a generic demographic analysis. There could be higher delinquency or defaulters demographicaly. \n",
    "* **Loan Attributes**\n",
    "  * Loan Ammount (loan_amt) \n",
    "  * Grade (grade)\n",
    "  * Term (term)\n",
    "  * Loan Date (issue_date)\n",
    "  * Purpose of Loan (purpose)\n",
    "  * Verification Status (verification_status)\n",
    "  * Interest Rate (int_rate)\n",
    "  * Installment (installment)\n",
    "  * Public Records (public_rec) - Derogatory Public Records. The value adds to the risk to the loan. Higher the value, lower the success rate.\n",
    "  * Public Records Bankruptcy  (public_rec_bankruptcy) - Number of bankruptcy records publocally available for the customer. Higher the value, lower is the success rate.\n",
    "  \n",
    "\n",
    "#### Ignored Columns\n",
    "* The following types of columns will be ignored in the analysis. This is a generic categorization of the columns which will be ignored in our approach and not the full list.\n",
    "   * **Customer Behaviour Columns** - Columns which describes customer behaviour will not contribute to the analysis. The current analysis is at the time of loan application but the customer behaviour variables generate post the approval of loan applications. Thus these attributes wil not be considered towards the loan approval/rejection process.\n",
    "   * Granular Data - Columns which describe next level of details which may not be required for the analysis. For example grade may be relevant for creating business outcomes and visualizations, sub grade is be very granular and will not be used in the analysis\n",
    "\n",
    "\n",
    "### Data Set Analysis based on understanding of EDA \n",
    "\n",
    "\n",
    "#### Rows Analysis\n",
    "- Summary Rows: No summary rows were there in the dataset\n",
    "- Header & Footer Rows - No header or footer rows in the dataset\n",
    "- Extra Rows - No column number, indicators etc. found in the dataset\n",
    "- Rows where the **loan_status = CURRENT will be dropped** as CURRENT loans are in progress and will not contribute in the decision making of pass or fail of the loan. The rows are dropped before the column analysis as it also cleans up unecessary column related to CURRENT early and columns with NA values can be cleaned in one go\n",
    "- Find duplicate rows in the dataset and drop if there are\n",
    "\n",
    "\n",
    "### Columns Analysis of the Dataset\n",
    "\n",
    "#### Drop Columns \n",
    "- There are multiple columns with **NA values** only. The **columns will be dropped**. \n",
    "    - *This is evaluated after dropping rows with `loan_status = Current`*\n",
    "    - `(next_pymnt_d, mths_since_last_major_derog, annual_inc_joint, dti_joint, verification_status_joint, tot_coll_amt, tot_cur_bal, open_acc_6m, open_il_6m, open_il_12m, open_il_24m, mths_since_rcnt_il, total_bal_il, il_util, open_rv_12m, open_rv_24m, max_bal_bc, all_util, total_rev_hi_lim, inq_fi, total_cu_tl, inq_last_12m, acc_open_past_24mths, avg_cur_bal, bc_open_to_buy, bc_util, mo_sin_old_il_acct, mo_sin_old_rev_tl_op, mo_sin_rcnt_rev_tl_op, mo_sin_rcnt_tl, mort_acc, mths_since_recent_bc, mths_since_recent_bc_dlq, mths_since_recent_inq, mths_since_recent_revol_delinq, num_accts_ever_120_pd, num_actv_bc_tl, num_actv_rev_tl, num_bc_sats, num_bc_tl, num_il_tl, num_op_rev_tl, num_rev_accts, num_rev_tl_bal_gt_0, num_sats, num_tl_120dpd_2m, num_tl_30dpd, num_tl_90g_dpd_24m, num_tl_op_past_12m, pct_tl_nvr_dlq, percent_bc_gt_75, tot_hi_cred_lim, total_bal_ex_mort, total_bc_limit, total_il_high_credit_limit)`\n",
    "- There are multiple columns where the **values are only zero**, the **columns will be dropped**\n",
    "- There are columns where the **values are constant**. They dont contribute to the analysis, **columns will be dropped**\n",
    "- There are columns where the **value is constant but the other values are NA**. The column will be considered as constant. **columns will be dropped**\n",
    "- There are columns where **more than 65% of data is empty** `(mths_since_last_delinq, mths_since_last_record)` - **columns will be dropped**\n",
    "- **Drop columns `(id, member_id)`** as they are **index variables and have unique values** and dont contribute to the analysis\n",
    "- **Drop columns `(emp_title, desc, title)`** as they are **discriptive and text (nouns) and dont contribute to analysis**\n",
    "- **Drop redundant columns `(url)`**. On closer analysis url is a static path with the loan id appended as query. It's a redundant column to `(id)` column\n",
    "- **Drop customer behaviour columns which represent data post the approval of loan** \n",
    "    - They contribute to the behaviour of the customer. Behaviour of the customer is recorded post approval of loan and not available at the time of loan approval. Thus these variables will not be considered in analysis and thus dropped\n",
    "    - `(delinq_2yrs, earliest_cr_line, inq_last_6mths, open_acc, pub_rec, revol_bal, revol_util, total_acc, out_prncp, out_prncp_inv, total_pymnt, total_pymnt_inv, total_rec_prncp, total_rec_int, total_rec_late_fee, recoveries, collection_recovery_fee, last_pymnt_d, last_pymnt_amnt, last_credit_pull_d, application_type)`\n",
    "    \n",
    "#### Convert Column Format\n",
    "- `(loan_amnt, funded_amnt, funded_amnt_inv)` columns are Object and will be converted to float\n",
    "- `(int_rate, installment, dti)` columns are Object and will be converted to float\n",
    "- **strip \"month\"** text from `term` column and convert to integer\n",
    "- Percentage columns `(int_rate)` are object. **Strip \"%\"** characters and convert column to float\n",
    "- `issue_d` column **converted to datetime format**\n",
    "\n",
    "#### Standardise Values\n",
    "- All currency columns are rounded off to 2 decimal places as currency are limited to cents/paise etc only.\n",
    "\n",
    "#### Convert Column Values\n",
    "- `loan_status` column converted to boolean **Charged Off = False and Fully Paid = True**. This converts the column into ordinal values\n",
    "- `emp_length` converted to integer with following logic. Note < 1 year is converted to zero and 10+ converted to 10.\n",
    "    - < 1 year: 0,  \n",
    "    - 2 years: 2,  \n",
    "    - 3 years: 3,  \n",
    "    - 7 years: 7,  \n",
    "    - 4 years: 4,\n",
    "    - 5 years: 5,\n",
    "    - 1 year: 1,\n",
    "    - 6 years: 6,\n",
    "    - 8 years: 8,\n",
    "    - 9 years: 9,\n",
    "    - 10+ years: 10\n",
    "\n",
    "#### Added new columns\n",
    "- verification_status_n added. Considering domain knowledge of lending = Verified > Source Verified > Not Verified. verification_status_n correspond to {Verified: 3, Source Verified: 2. Not Verified: 1} for better analysis\n",
    "- issue_y is year extracted from issue_d\n",
    "- issue_m is month extracted from issue_d\n",
    "\n",
    "### Ignored Rows and Columns because of missing data\n",
    "*  Columns with high percentage of missing values will be dropped **(65% above for this case study)**\n",
    "*  Columns with less percentage of missing value will be imputed\n",
    "*  Rows with high percentage of missing values will be removed **(65% above for this case study)**\n",
    "\n",
    "### Imputing vs Dropping Columns\n",
    "- Approach taken here in this analysis, if total number of rows (for all columns) which are blank is less than 5% of the dataset, we are dropping the rows. If the total rows are greater than 5% we will impute\n",
    "- If the dataset of blanks is considerably small, dropping the rows will possible be more accurate approach withoug impacting the dataset and the outcomes\n",
    "- If the dataset of blanks are considerably large, dropping the rows will skew the analysis and impute approach will be taken\n",
    "- In the current dataset, combined row count of blanks for `emp_length` and `pub_rec_bankruptcies` is 1730, which is 4.48% of the total rows thus dropping the rows will be the more accurate approach\n",
    "- If imputing, we will correlate `emp_length` with `annual_inc`, with the logic that higher the length of employment, higher the salary potentially. With this approach, the outliers can potentially introduce noise.\n",
    "\n",
    "### Outlier treatment and dropping of rows\n",
    "- Approach taken in this analysis to drop all outlier rows\n",
    "- The following columns were evaluated for outliers `loan_amnt,funded_amnt,funded_amnt_inv,int_rate,installment,annual_inc,dti`\n",
    "- Total rows dropped due to outlier treatment:  3791\n",
    "- Percentage of rows dropped due to outlier treatment:  10.29 %"
   ]
  },
  {
   "cell_type": "markdown",
   "id": "475f7ed9",
   "metadata": {},
   "source": [
    "## Approach\n",
    "- Step 0 - Data Cleaning & Manipulation Checklist\n",
    "- Step 1 - Dropping Rows - where loan_status = \"Current\"\n",
    "- Step 2 - Dropping Columns based on EDA and Domain Knowledge\n",
    "- Step 3 - Convert the data types\n",
    "- Step 4 - Imputing vs Dropping Columns\n",
    "- Step 5 - Analysis of the dataset post cleanup\n",
    "- Step 6 - Outlier Treatment\n",
    "- Step 7 - **Analysis** - Univariate, Bivariate and Derived Metrics Analysis\n",
    "- Step 8 - **Conclusions** Inferences and Recommendations"
   ]
  },
  {
   "cell_type": "markdown",
   "id": "1d8067b0",
   "metadata": {},
   "source": [
    "## Step 0 - Data Loading, Cleaning & Manipulation Checklist"
   ]
  },
  {
   "cell_type": "markdown",
   "id": "5ab521a0",
   "metadata": {},
   "source": [
    "### Imports and Initial Setup"
   ]
  },
  {
   "cell_type": "code",
   "execution_count": 193,
   "id": "5604764f",
   "metadata": {},
   "outputs": [],
   "source": [
    "# Importing core libraries required for the case study\n",
    "import numpy as np\n",
    "import pandas as pd\n",
    "import matplotlib.pyplot as plot\n",
    "import seaborn as sea\n",
    "import datetime as dt\n",
    "import warnings\n",
    "\n",
    "# Setting max rows settings to 200 to display all the summary data\n",
    "pd.set_option(\"display.max_rows\", 50)\n",
    "\n",
    "# Suppress warnings\n",
    "#warnings.filterwarnings('ignore')"
   ]
  },
  {
   "cell_type": "markdown",
   "id": "ef66628b",
   "metadata": {},
   "source": [
    "### Load data from CSV"
   ]
  },
  {
   "cell_type": "markdown",
   "id": "55661adf",
   "metadata": {},
   "source": [
    "To make the program work, checkout the GitHub repo using the command:\n",
    "```shell\n",
    "git clone https://github.com/slahiri/LendingClubCaseStudy.git\n",
    "```\n",
    "Create a folder in the checked out location, here inside \"LendingClubCaseStudy\" folder and copy the loan.csv\n",
    "```shell\n",
    "mkdir data\n",
    "cp /source_location/loan.csv /dest_location/LendingClubCaseStudy/data\n",
    "```\n",
    "Set the variable names ```data_folder``` and ```loan_csv``` corresponding to the folder name created and name of loan file below:\n"
   ]
  },
  {
   "cell_type": "code",
   "execution_count": 241,
   "id": "3d22e175",
   "metadata": {},
   "outputs": [
    {
     "data": {
      "text/html": [
       "<div>\n",
       "<style scoped>\n",
       "    .dataframe tbody tr th:only-of-type {\n",
       "        vertical-align: middle;\n",
       "    }\n",
       "\n",
       "    .dataframe tbody tr th {\n",
       "        vertical-align: top;\n",
       "    }\n",
       "\n",
       "    .dataframe thead th {\n",
       "        text-align: right;\n",
       "    }\n",
       "</style>\n",
       "<table border=\"1\" class=\"dataframe\">\n",
       "  <thead>\n",
       "    <tr style=\"text-align: right;\">\n",
       "      <th></th>\n",
       "      <th>id</th>\n",
       "      <th>member_id</th>\n",
       "      <th>loan_amnt</th>\n",
       "      <th>funded_amnt</th>\n",
       "      <th>funded_amnt_inv</th>\n",
       "      <th>term</th>\n",
       "      <th>int_rate</th>\n",
       "      <th>installment</th>\n",
       "      <th>grade</th>\n",
       "      <th>sub_grade</th>\n",
       "      <th>...</th>\n",
       "      <th>num_tl_90g_dpd_24m</th>\n",
       "      <th>num_tl_op_past_12m</th>\n",
       "      <th>pct_tl_nvr_dlq</th>\n",
       "      <th>percent_bc_gt_75</th>\n",
       "      <th>pub_rec_bankruptcies</th>\n",
       "      <th>tax_liens</th>\n",
       "      <th>tot_hi_cred_lim</th>\n",
       "      <th>total_bal_ex_mort</th>\n",
       "      <th>total_bc_limit</th>\n",
       "      <th>total_il_high_credit_limit</th>\n",
       "    </tr>\n",
       "  </thead>\n",
       "  <tbody>\n",
       "    <tr>\n",
       "      <th>0</th>\n",
       "      <td>1077501</td>\n",
       "      <td>1296599</td>\n",
       "      <td>5000</td>\n",
       "      <td>5000</td>\n",
       "      <td>4975.0</td>\n",
       "      <td>36 months</td>\n",
       "      <td>10.65%</td>\n",
       "      <td>162.87</td>\n",
       "      <td>B</td>\n",
       "      <td>B2</td>\n",
       "      <td>...</td>\n",
       "      <td>NaN</td>\n",
       "      <td>NaN</td>\n",
       "      <td>NaN</td>\n",
       "      <td>NaN</td>\n",
       "      <td>0.0</td>\n",
       "      <td>0.0</td>\n",
       "      <td>NaN</td>\n",
       "      <td>NaN</td>\n",
       "      <td>NaN</td>\n",
       "      <td>NaN</td>\n",
       "    </tr>\n",
       "    <tr>\n",
       "      <th>1</th>\n",
       "      <td>1077430</td>\n",
       "      <td>1314167</td>\n",
       "      <td>2500</td>\n",
       "      <td>2500</td>\n",
       "      <td>2500.0</td>\n",
       "      <td>60 months</td>\n",
       "      <td>15.27%</td>\n",
       "      <td>59.83</td>\n",
       "      <td>C</td>\n",
       "      <td>C4</td>\n",
       "      <td>...</td>\n",
       "      <td>NaN</td>\n",
       "      <td>NaN</td>\n",
       "      <td>NaN</td>\n",
       "      <td>NaN</td>\n",
       "      <td>0.0</td>\n",
       "      <td>0.0</td>\n",
       "      <td>NaN</td>\n",
       "      <td>NaN</td>\n",
       "      <td>NaN</td>\n",
       "      <td>NaN</td>\n",
       "    </tr>\n",
       "    <tr>\n",
       "      <th>2</th>\n",
       "      <td>1077175</td>\n",
       "      <td>1313524</td>\n",
       "      <td>2400</td>\n",
       "      <td>2400</td>\n",
       "      <td>2400.0</td>\n",
       "      <td>36 months</td>\n",
       "      <td>15.96%</td>\n",
       "      <td>84.33</td>\n",
       "      <td>C</td>\n",
       "      <td>C5</td>\n",
       "      <td>...</td>\n",
       "      <td>NaN</td>\n",
       "      <td>NaN</td>\n",
       "      <td>NaN</td>\n",
       "      <td>NaN</td>\n",
       "      <td>0.0</td>\n",
       "      <td>0.0</td>\n",
       "      <td>NaN</td>\n",
       "      <td>NaN</td>\n",
       "      <td>NaN</td>\n",
       "      <td>NaN</td>\n",
       "    </tr>\n",
       "    <tr>\n",
       "      <th>3</th>\n",
       "      <td>1076863</td>\n",
       "      <td>1277178</td>\n",
       "      <td>10000</td>\n",
       "      <td>10000</td>\n",
       "      <td>10000.0</td>\n",
       "      <td>36 months</td>\n",
       "      <td>13.49%</td>\n",
       "      <td>339.31</td>\n",
       "      <td>C</td>\n",
       "      <td>C1</td>\n",
       "      <td>...</td>\n",
       "      <td>NaN</td>\n",
       "      <td>NaN</td>\n",
       "      <td>NaN</td>\n",
       "      <td>NaN</td>\n",
       "      <td>0.0</td>\n",
       "      <td>0.0</td>\n",
       "      <td>NaN</td>\n",
       "      <td>NaN</td>\n",
       "      <td>NaN</td>\n",
       "      <td>NaN</td>\n",
       "    </tr>\n",
       "    <tr>\n",
       "      <th>4</th>\n",
       "      <td>1075358</td>\n",
       "      <td>1311748</td>\n",
       "      <td>3000</td>\n",
       "      <td>3000</td>\n",
       "      <td>3000.0</td>\n",
       "      <td>60 months</td>\n",
       "      <td>12.69%</td>\n",
       "      <td>67.79</td>\n",
       "      <td>B</td>\n",
       "      <td>B5</td>\n",
       "      <td>...</td>\n",
       "      <td>NaN</td>\n",
       "      <td>NaN</td>\n",
       "      <td>NaN</td>\n",
       "      <td>NaN</td>\n",
       "      <td>0.0</td>\n",
       "      <td>0.0</td>\n",
       "      <td>NaN</td>\n",
       "      <td>NaN</td>\n",
       "      <td>NaN</td>\n",
       "      <td>NaN</td>\n",
       "    </tr>\n",
       "  </tbody>\n",
       "</table>\n",
       "<p>5 rows × 111 columns</p>\n",
       "</div>"
      ],
      "text/plain": [
       "        id  member_id  loan_amnt  funded_amnt  funded_amnt_inv        term  \\\n",
       "0  1077501    1296599       5000         5000           4975.0   36 months   \n",
       "1  1077430    1314167       2500         2500           2500.0   60 months   \n",
       "2  1077175    1313524       2400         2400           2400.0   36 months   \n",
       "3  1076863    1277178      10000        10000          10000.0   36 months   \n",
       "4  1075358    1311748       3000         3000           3000.0   60 months   \n",
       "\n",
       "  int_rate  installment grade sub_grade  ... num_tl_90g_dpd_24m  \\\n",
       "0   10.65%       162.87     B        B2  ...                NaN   \n",
       "1   15.27%        59.83     C        C4  ...                NaN   \n",
       "2   15.96%        84.33     C        C5  ...                NaN   \n",
       "3   13.49%       339.31     C        C1  ...                NaN   \n",
       "4   12.69%        67.79     B        B5  ...                NaN   \n",
       "\n",
       "  num_tl_op_past_12m pct_tl_nvr_dlq  percent_bc_gt_75 pub_rec_bankruptcies  \\\n",
       "0                NaN            NaN               NaN                  0.0   \n",
       "1                NaN            NaN               NaN                  0.0   \n",
       "2                NaN            NaN               NaN                  0.0   \n",
       "3                NaN            NaN               NaN                  0.0   \n",
       "4                NaN            NaN               NaN                  0.0   \n",
       "\n",
       "  tax_liens tot_hi_cred_lim total_bal_ex_mort total_bc_limit  \\\n",
       "0       0.0             NaN               NaN            NaN   \n",
       "1       0.0             NaN               NaN            NaN   \n",
       "2       0.0             NaN               NaN            NaN   \n",
       "3       0.0             NaN               NaN            NaN   \n",
       "4       0.0             NaN               NaN            NaN   \n",
       "\n",
       "  total_il_high_credit_limit  \n",
       "0                        NaN  \n",
       "1                        NaN  \n",
       "2                        NaN  \n",
       "3                        NaN  \n",
       "4                        NaN  \n",
       "\n",
       "[5 rows x 111 columns]"
      ]
     },
     "execution_count": 241,
     "metadata": {},
     "output_type": "execute_result"
    }
   ],
   "source": [
    "# Loading the loan raw dataset\n",
    "data_folder = \".data\"\n",
    "loan_csv = \"loan.csv\"\n",
    "\n",
    "# The \"loan\" variable represents the dataframe loaded from the CSV\n",
    "loan = pd.read_csv('./' + data_folder + '/' + loan_csv, low_memory=False)\n",
    "loan.head()"
   ]
  },
  {
   "cell_type": "markdown",
   "id": "8a6122eb",
   "metadata": {},
   "source": [
    "### Columns Review"
   ]
  },
  {
   "cell_type": "code",
   "execution_count": 242,
   "id": "eed4f6d9",
   "metadata": {},
   "outputs": [
    {
     "data": {
      "text/plain": [
       "id                              0.000000\n",
       "member_id                       0.000000\n",
       "loan_amnt                       0.000000\n",
       "funded_amnt                     0.000000\n",
       "funded_amnt_inv                 0.000000\n",
       "                                 ...    \n",
       "tax_liens                       0.098195\n",
       "tot_hi_cred_lim               100.000000\n",
       "total_bal_ex_mort             100.000000\n",
       "total_bc_limit                100.000000\n",
       "total_il_high_credit_limit    100.000000\n",
       "Length: 111, dtype: float64"
      ]
     },
     "execution_count": 242,
     "metadata": {},
     "output_type": "execute_result"
    }
   ],
   "source": [
    "# Print summary of Nulls, Blanks in the dataset\n",
    "(loan.isnull().sum()/len(loan.index) * 100)"
   ]
  },
  {
   "cell_type": "markdown",
   "id": "cfdd0fbf",
   "metadata": {},
   "source": [
    "### Data Dictionary Review"
   ]
  },
  {
   "cell_type": "code",
   "execution_count": 243,
   "id": "13420a48",
   "metadata": {},
   "outputs": [
    {
     "data": {
      "text/html": [
       "<div>\n",
       "<style scoped>\n",
       "    .dataframe tbody tr th:only-of-type {\n",
       "        vertical-align: middle;\n",
       "    }\n",
       "\n",
       "    .dataframe tbody tr th {\n",
       "        vertical-align: top;\n",
       "    }\n",
       "\n",
       "    .dataframe thead th {\n",
       "        text-align: right;\n",
       "    }\n",
       "</style>\n",
       "<table border=\"1\" class=\"dataframe\">\n",
       "  <thead>\n",
       "    <tr style=\"text-align: right;\">\n",
       "      <th></th>\n",
       "      <th>LoanStatNew</th>\n",
       "      <th>Description</th>\n",
       "      <th>Column Status</th>\n",
       "      <th>Reason</th>\n",
       "      <th>Type Analysis</th>\n",
       "    </tr>\n",
       "  </thead>\n",
       "  <tbody>\n",
       "    <tr>\n",
       "      <th>0</th>\n",
       "      <td>acc_now_delinq</td>\n",
       "      <td>The number of accounts on which the borrower i...</td>\n",
       "      <td>Dropped</td>\n",
       "      <td>Zero Value</td>\n",
       "      <td>NaN</td>\n",
       "    </tr>\n",
       "    <tr>\n",
       "      <th>1</th>\n",
       "      <td>acc_open_past_24mths</td>\n",
       "      <td>Number of trades opened in past 24 months.</td>\n",
       "      <td>Dropped</td>\n",
       "      <td>NA Values</td>\n",
       "      <td>NaN</td>\n",
       "    </tr>\n",
       "    <tr>\n",
       "      <th>2</th>\n",
       "      <td>addr_state</td>\n",
       "      <td>The state provided by the borrower in the loan...</td>\n",
       "      <td>Retained</td>\n",
       "      <td>NaN</td>\n",
       "      <td>Unordered Categorical Variable</td>\n",
       "    </tr>\n",
       "    <tr>\n",
       "      <th>3</th>\n",
       "      <td>all_util</td>\n",
       "      <td>Balance to credit limit on all trades</td>\n",
       "      <td>Dropped</td>\n",
       "      <td>NA Values</td>\n",
       "      <td>NaN</td>\n",
       "    </tr>\n",
       "    <tr>\n",
       "      <th>4</th>\n",
       "      <td>annual_inc</td>\n",
       "      <td>The self-reported annual income provided by th...</td>\n",
       "      <td>Retained</td>\n",
       "      <td>Important Attribute</td>\n",
       "      <td>NaN</td>\n",
       "    </tr>\n",
       "    <tr>\n",
       "      <th>...</th>\n",
       "      <td>...</td>\n",
       "      <td>...</td>\n",
       "      <td>...</td>\n",
       "      <td>...</td>\n",
       "      <td>...</td>\n",
       "    </tr>\n",
       "    <tr>\n",
       "      <th>112</th>\n",
       "      <td>verification_status</td>\n",
       "      <td>Indicates if income was verified by LC, not ve...</td>\n",
       "      <td>Retained</td>\n",
       "      <td>Important Attribute</td>\n",
       "      <td>Unordered Categorical Variable</td>\n",
       "    </tr>\n",
       "    <tr>\n",
       "      <th>113</th>\n",
       "      <td>verification_status_joint</td>\n",
       "      <td>Indicates if the co-borrowers' joint income wa...</td>\n",
       "      <td>Dropped</td>\n",
       "      <td>NA Values</td>\n",
       "      <td>NaN</td>\n",
       "    </tr>\n",
       "    <tr>\n",
       "      <th>114</th>\n",
       "      <td>zip_code</td>\n",
       "      <td>The first 3 numbers of the zip code provided b...</td>\n",
       "      <td>Retained</td>\n",
       "      <td>NaN</td>\n",
       "      <td>Unordered Categorical Variable</td>\n",
       "    </tr>\n",
       "    <tr>\n",
       "      <th>115</th>\n",
       "      <td>NaN</td>\n",
       "      <td>NaN</td>\n",
       "      <td>NaN</td>\n",
       "      <td>NaN</td>\n",
       "      <td>NaN</td>\n",
       "    </tr>\n",
       "    <tr>\n",
       "      <th>116</th>\n",
       "      <td>NaN</td>\n",
       "      <td>* Employer Title replaces Employer Name for al...</td>\n",
       "      <td>NaN</td>\n",
       "      <td>NaN</td>\n",
       "      <td>NaN</td>\n",
       "    </tr>\n",
       "  </tbody>\n",
       "</table>\n",
       "<p>117 rows × 5 columns</p>\n",
       "</div>"
      ],
      "text/plain": [
       "                   LoanStatNew  \\\n",
       "0               acc_now_delinq   \n",
       "1         acc_open_past_24mths   \n",
       "2                   addr_state   \n",
       "3                     all_util   \n",
       "4                   annual_inc   \n",
       "..                         ...   \n",
       "112        verification_status   \n",
       "113  verification_status_joint   \n",
       "114                   zip_code   \n",
       "115                        NaN   \n",
       "116                        NaN   \n",
       "\n",
       "                                           Description Column Status  \\\n",
       "0    The number of accounts on which the borrower i...       Dropped   \n",
       "1           Number of trades opened in past 24 months.       Dropped   \n",
       "2    The state provided by the borrower in the loan...      Retained   \n",
       "3                Balance to credit limit on all trades       Dropped   \n",
       "4    The self-reported annual income provided by th...      Retained   \n",
       "..                                                 ...           ...   \n",
       "112  Indicates if income was verified by LC, not ve...      Retained   \n",
       "113  Indicates if the co-borrowers' joint income wa...       Dropped   \n",
       "114  The first 3 numbers of the zip code provided b...      Retained   \n",
       "115                                                NaN           NaN   \n",
       "116  * Employer Title replaces Employer Name for al...           NaN   \n",
       "\n",
       "                  Reason                   Type Analysis  \n",
       "0             Zero Value                             NaN  \n",
       "1              NA Values                             NaN  \n",
       "2                    NaN  Unordered Categorical Variable  \n",
       "3              NA Values                             NaN  \n",
       "4    Important Attribute                             NaN  \n",
       "..                   ...                             ...  \n",
       "112  Important Attribute  Unordered Categorical Variable  \n",
       "113            NA Values                             NaN  \n",
       "114                  NaN  Unordered Categorical Variable  \n",
       "115                  NaN                             NaN  \n",
       "116                  NaN                             NaN  \n",
       "\n",
       "[117 rows x 5 columns]"
      ]
     },
     "execution_count": 243,
     "metadata": {},
     "output_type": "execute_result"
    }
   ],
   "source": [
    "# Loading all data dictionary values\n",
    "dict = pd.read_excel('Data_Dictionary.xlsx')\n",
    "dict"
   ]
  },
  {
   "cell_type": "markdown",
   "id": "e8d51550",
   "metadata": {},
   "source": [
    "## Step1 - Dropping Rows - where loan_status = \"Current\""
   ]
  },
  {
   "cell_type": "code",
   "execution_count": 244,
   "id": "9221696e",
   "metadata": {},
   "outputs": [],
   "source": [
    "prev_rows = len(loan)\n",
    "\n",
    "# The rows where loan_stats=Current are the data where the loan repayment is currently in progress\n",
    "# The loans which are currently in progress will not contribute to decisions \n",
    "# of default or pass as it's difficult to predict the outcome\n",
    "#\n",
    "# Dropping the rwos early as, dropping all Currrent rows introduces NA columns which can be easily dropped\n",
    "loan = loan[loan['loan_status'] != \"Current\"]"
   ]
  },
  {
   "cell_type": "code",
   "execution_count": 245,
   "id": "7d64d848",
   "metadata": {},
   "outputs": [
    {
     "name": "stdout",
     "output_type": "stream",
     "text": [
      "Number of rows dropped where loan_status = 'Current': 1140\n",
      "Percentage of rows dropped =  2.87 %\n"
     ]
    }
   ],
   "source": [
    "# Print current data statistics after dropping rows with loan_status \"CURRENT\"\n",
    "curr_rows = len(loan)\n",
    "\n",
    "print(\"Number of rows dropped where loan_status = 'Current':\", (prev_rows - curr_rows))\n",
    "print(\"Percentage of rows dropped = \", round((prev_rows - curr_rows)/prev_rows*100,2),\"%\")"
   ]
  },
  {
   "cell_type": "code",
   "execution_count": 246,
   "id": "d083acc0",
   "metadata": {},
   "outputs": [
    {
     "name": "stdout",
     "output_type": "stream",
     "text": [
      "Duplicate Rows:  0\n",
      "No action needed\n"
     ]
    }
   ],
   "source": [
    "# Find any duplicate rows in the dataset\n",
    "duplicate_rows = len(loan[loan.duplicated()])\n",
    "if duplicate_rows <= 0:\n",
    "    print(\"Duplicate Rows: \", duplicate_rows)\n",
    "    print(\"No action needed\")\n",
    "else:\n",
    "    print(\"Do something\")"
   ]
  },
  {
   "cell_type": "markdown",
   "id": "61611a50",
   "metadata": {},
   "source": [
    "## Step2 - Dropping Columns"
   ]
  },
  {
   "cell_type": "code",
   "execution_count": 247,
   "id": "fb459ee9",
   "metadata": {},
   "outputs": [
    {
     "name": "stdout",
     "output_type": "stream",
     "text": [
      "member_id is unique, can be dropped\n",
      "id is unique, can be dropped\n"
     ]
    }
   ],
   "source": [
    "# Dropping columns which is unique id in nature. They dont contribute to loan analysis\n",
    "\n",
    "# Checking if member_id is unique\n",
    "if len(loan['member_id'].unique()) == loan.shape[0]:\n",
    "    print(\"member_id is unique, can be dropped\")\n",
    "    loan = loan.drop(['member_id'],  axis=1)\n",
    "else:\n",
    "    print(\"member_id is not unique, dont drop\")\n",
    "\n",
    "# Checking if id is unique\n",
    "if len(loan['id'].unique()) == loan.shape[0]:\n",
    "    print(\"id is unique, can be dropped\")\n",
    "    loan = loan.drop(['id'],  axis=1)\n",
    "else:\n",
    "    print(\"id is not unique, dont drop\")"
   ]
  },
  {
   "cell_type": "code",
   "execution_count": 248,
   "id": "f8fe3cb9",
   "metadata": {},
   "outputs": [],
   "source": [
    "# Dropping text/description columns which wont contribute to overall analysis\n",
    "# These are names of establishment etc which will not contribute to loan pass or failure\n",
    "# THe URL column is a static link with id as the attribute. Its a redundant column\n",
    "loan = loan.drop(['url', 'emp_title', 'desc', 'title'],  axis=1)\n",
    "\n",
    "# Dropping column sub_grade as the current analysis will limit to Grade only\n",
    "loan = loan.drop(['sub_grade'],  axis=1)"
   ]
  },
  {
   "cell_type": "code",
   "execution_count": 249,
   "id": "22c7cbb7",
   "metadata": {},
   "outputs": [],
   "source": [
    "# Dropping all columns which refer to behavoural data of customer post loan approval \n",
    "# Behaviour data of the customers are captured post the loan approval\n",
    "# The data is not available at the time of loan approval and thus cannot be used for calculations\n",
    "loan = loan.drop(['delinq_2yrs', 'earliest_cr_line', \n",
    "                          'inq_last_6mths', 'open_acc', 'pub_rec', \n",
    "                          'revol_bal', 'revol_util', 'total_acc', \n",
    "                          'out_prncp', 'out_prncp_inv', 'total_pymnt', \n",
    "                          'total_pymnt_inv', 'total_rec_prncp', \n",
    "                          'total_rec_int', 'total_rec_late_fee', 'recoveries', \n",
    "                          'collection_recovery_fee', 'last_pymnt_d', \n",
    "                          'last_pymnt_amnt', 'last_credit_pull_d', \n",
    "                          'application_type'],  axis=1)"
   ]
  },
  {
   "cell_type": "code",
   "execution_count": 250,
   "id": "3c40ad78",
   "metadata": {},
   "outputs": [
    {
     "name": "stdout",
     "output_type": "stream",
     "text": [
      "Total columns with values NA:  55 \n",
      "\n",
      "\n",
      "Columns with all values as NA\n",
      " ['next_pymnt_d', 'mths_since_last_major_derog', 'annual_inc_joint', 'dti_joint', 'verification_status_joint', 'tot_coll_amt', 'tot_cur_bal', 'open_acc_6m', 'open_il_6m', 'open_il_12m', 'open_il_24m', 'mths_since_rcnt_il', 'total_bal_il', 'il_util', 'open_rv_12m', 'open_rv_24m', 'max_bal_bc', 'all_util', 'total_rev_hi_lim', 'inq_fi', 'total_cu_tl', 'inq_last_12m', 'acc_open_past_24mths', 'avg_cur_bal', 'bc_open_to_buy', 'bc_util', 'mo_sin_old_il_acct', 'mo_sin_old_rev_tl_op', 'mo_sin_rcnt_rev_tl_op', 'mo_sin_rcnt_tl', 'mort_acc', 'mths_since_recent_bc', 'mths_since_recent_bc_dlq', 'mths_since_recent_inq', 'mths_since_recent_revol_delinq', 'num_accts_ever_120_pd', 'num_actv_bc_tl', 'num_actv_rev_tl', 'num_bc_sats', 'num_bc_tl', 'num_il_tl', 'num_op_rev_tl', 'num_rev_accts', 'num_rev_tl_bal_gt_0', 'num_sats', 'num_tl_120dpd_2m', 'num_tl_30dpd', 'num_tl_90g_dpd_24m', 'num_tl_op_past_12m', 'pct_tl_nvr_dlq', 'percent_bc_gt_75', 'tot_hi_cred_lim', 'total_bal_ex_mort', 'total_bc_limit', 'total_il_high_credit_limit']\n"
     ]
    }
   ],
   "source": [
    "# Dropping all columns whose all the values are NA\n",
    "# Print all NA columns for verification\n",
    "print(\"Total columns with values NA: \", len(loan.columns[loan.isna().all()].tolist()),\"\\n\\n\")\n",
    "print(\"Columns with all values as NA\\n\", loan.columns[loan.isna().all()].tolist())\n",
    "\n",
    "# Dropping all the columns whose all the records are NaN or Null\n",
    "loan = loan.dropna(axis='columns', how=\"all\")"
   ]
  },
  {
   "cell_type": "code",
   "execution_count": 251,
   "id": "d35350b8",
   "metadata": {},
   "outputs": [],
   "source": [
    "# Dropping all columns with all zero values\n",
    "loan = loan.loc[:, (loan != 0).any(axis=0)]"
   ]
  },
  {
   "cell_type": "code",
   "execution_count": 252,
   "id": "132295b9",
   "metadata": {},
   "outputs": [
    {
     "name": "stdout",
     "output_type": "stream",
     "text": [
      "Columns with constant values with or without NA\n",
      "pymnt_plan\n",
      "initial_list_status\n",
      "collections_12_mths_ex_med\n",
      "policy_code\n",
      "chargeoff_within_12_mths\n",
      "tax_liens\n"
     ]
    }
   ],
   "source": [
    "# Function to Drop all columns who have constant values (ignoring NA value)\n",
    "# Example most of the columns is 1 and rest is NA, the column will be dropped\n",
    "# If we have 1,2 and NA, the column wont be dropped\n",
    "print(\"Columns with constant values with or without NA\")\n",
    "def drop_constant_columns(df):\n",
    "    for c in df.columns:\n",
    "        if df[c].nunique(dropna=True) == 1:\n",
    "            print(c)\n",
    "            df = df.drop(c, axis=1)\n",
    "    return df\n",
    "\n",
    "# Drop all constant columns from df1 (definition of constant is constant value across the rows, this ignores Na values)\n",
    "loan = drop_constant_columns(loan)"
   ]
  },
  {
   "cell_type": "code",
   "execution_count": 253,
   "id": "17934b3d",
   "metadata": {},
   "outputs": [
    {
     "name": "stdout",
     "output_type": "stream",
     "text": [
      "Columns with more that 65% empty records\n",
      "mths_since_last_delinq\n",
      "mths_since_last_record\n"
     ]
    }
   ],
   "source": [
    "# Function which checks the amount of empty values in a dataframe and \n",
    "# drops the column if the amount of empty values is more than 65%\n",
    "# 60% is the threshhold percentage which decides imputing vs dropping \n",
    "print(\"Columns with more that 65% empty records\")\n",
    "def drop_mostly_empty_columns(df):\n",
    "    total_rows = len(df)\n",
    "    for c in df.columns:\n",
    "        # Drop columns whose mean na values exceed 65%\n",
    "        if df[c].isna().mean().round(2) >= 0.65:\n",
    "            print(c)\n",
    "            df = df.drop(c, axis=1)\n",
    "    return df\n",
    "loan = drop_mostly_empty_columns(loan)"
   ]
  },
  {
   "cell_type": "markdown",
   "id": "d367a812",
   "metadata": {},
   "source": [
    "## Step3 - Convert the data types"
   ]
  },
  {
   "cell_type": "code",
   "execution_count": 254,
   "id": "56a612e3",
   "metadata": {},
   "outputs": [],
   "source": [
    "# Convert the columns loan_amnt and funded_amnt as flot64\n",
    "loan = loan.astype({'loan_amnt':'float','funded_amnt':'float'})"
   ]
  },
  {
   "cell_type": "code",
   "execution_count": 255,
   "id": "9f049912",
   "metadata": {},
   "outputs": [],
   "source": [
    "# Convert the term column into an integer from a string\n",
    "loan['term'] = loan['term'].apply(lambda x : int(x[:-7]))"
   ]
  },
  {
   "cell_type": "code",
   "execution_count": 256,
   "id": "9c61fbaa",
   "metadata": {},
   "outputs": [],
   "source": [
    "# Convert int_rate to  float by removing the \"%\" character\n",
    "loan['int_rate'] = loan['int_rate'].apply(lambda x : float(x[:-1]))"
   ]
  },
  {
   "cell_type": "code",
   "execution_count": 257,
   "id": "c7fcc0e6",
   "metadata": {},
   "outputs": [
    {
     "name": "stdout",
     "output_type": "stream",
     "text": [
      "Rounding columns to 2 decimal places\n",
      "loan_amnt\n",
      "funded_amnt\n",
      "funded_amnt_inv\n",
      "int_rate\n",
      "dti\n"
     ]
    }
   ],
   "source": [
    "# Round off the values of key float fields to 2 decimal place\n",
    "# all int_rate and dti already limited to 2 edcimal\n",
    "print(\"Rounding columns to 2 decimal places\")\n",
    "for c in ['loan_amnt', 'funded_amnt', 'funded_amnt_inv', 'int_rate', 'dti']:\n",
    "    print(c)\n",
    "    loan[c] = loan[c].apply(lambda x: round(x,2))"
   ]
  },
  {
   "cell_type": "code",
   "execution_count": 258,
   "id": "17bba559",
   "metadata": {},
   "outputs": [],
   "source": [
    "# Converting the loan_status to boolean column. \"Fully-Paid is True and Charged Off is False\"\n",
    "# Added a function instead of lambda because, if this is accidentally re-run on a boolean column, the logic broke\n",
    "# Now it will only convert to boolean if the column is a string and has the two specific values\n",
    "def convert_loan_status_to_boolean(x):\n",
    "    if x == \"Fully Paid\":\n",
    "        return True\n",
    "    elif x == \"Charged Off\":\n",
    "        return False\n",
    "    else:\n",
    "        return x\n",
    "\n",
    "#loan['loan_status'] = loan['loan_status'].apply(lambda x: convert_loan_status_to_boolean(x))"
   ]
  },
  {
   "cell_type": "code",
   "execution_count": 259,
   "id": "ad26d5ab",
   "metadata": {},
   "outputs": [],
   "source": [
    "# Converting the column issue_d from string object to DateTime\n",
    "loan['issue_d'] = pd.to_datetime(loan['issue_d'], format='%b-%y')\n",
    "\n",
    "# Adding additional column for Year and Month for analysis extrating Year and Month from issue_d\n",
    "loan['issue_y'] = pd.DatetimeIndex(loan['issue_d']).year\n",
    "loan['issue_m'] = pd.DatetimeIndex(loan['issue_d']).month"
   ]
  },
  {
   "cell_type": "code",
   "execution_count": 260,
   "id": "e4515ad8",
   "metadata": {},
   "outputs": [
    {
     "name": "stdout",
     "output_type": "stream",
     "text": [
      "1    16694\n",
      "3    12206\n",
      "2     9677\n",
      "Name: verification_status_nominal, dtype: int64\n"
     ]
    }
   ],
   "source": [
    "# Converting the verification_status as Ordinal value with the following logic\n",
    "# Verified - The documents are verified first hand with specific documents like Bank Statements, Identity Documents etc.\n",
    "# Source Verified - The customer has been verified by third party source\n",
    "# Not Verified - The customer has not been verified\n",
    "# Considering domain knowledge of lending = Verified > Source Verified > Not Verified\n",
    "# Replacing the nominal values with ordinal values {Verified: 3, Source Verified: 2. Not Verified: 1}\n",
    "# Higher number given to more trusted source\n",
    "\n",
    "loan['verification_status_nominal'] = loan['verification_status'].replace({'Verified': 3,\n",
    "                                                                                   'Source Verified': 2,\n",
    "                                                                                   'Not Verified': 1})\n",
    "\n",
    "print(loan['verification_status_nominal'].value_counts())"
   ]
  },
  {
   "cell_type": "markdown",
   "id": "02694d24",
   "metadata": {},
   "source": [
    "## Step 4 - Imputing vs Dropping Columns"
   ]
  },
  {
   "cell_type": "markdown",
   "id": "dad12bc5",
   "metadata": {},
   "source": [
    "Evaluating the percentage of rows with blank values for both the columns. If the total percentage is less than 5% will take an option of dropping the columns vs imputing."
   ]
  },
  {
   "cell_type": "code",
   "execution_count": 261,
   "id": "72ba1219",
   "metadata": {},
   "outputs": [
    {
     "name": "stdout",
     "output_type": "stream",
     "text": [
      "emp_length blank rows 1033\n",
      "pub_rec_bankruptcies blank rows 697 \n",
      "\n",
      "emp_length 2.68 %\n",
      "pub_rec_bankruptcies 1.81 %\n",
      "\n",
      "Total rows percentage whose columns are blank:  4.48 %\n"
     ]
    }
   ],
   "source": [
    "# Identify columns who have blank values and what percentage of total values are there blanks. \n",
    "# These values may need to be imputed\n",
    "print('emp_length blank rows', loan['emp_length'].isna().sum())\n",
    "print('pub_rec_bankruptcies blank rows', loan['pub_rec_bankruptcies'].isna().sum(), \"\\n\")\n",
    "imp_total = 0\n",
    "for c in loan.columns[loan.isna().any()].tolist():\n",
    "    imp_val = len(loan[loan[c].isna()]) / len(loan) * 100\n",
    "    imp_total += imp_val\n",
    "    print(c, round(imp_val, 2),\"%\")\n",
    "print(\"\\nTotal rows percentage whose columns are blank: \", round(imp_total ,2), \"%\")"
   ]
  },
  {
   "cell_type": "code",
   "execution_count": 262,
   "id": "4375e4ed",
   "metadata": {},
   "outputs": [],
   "source": [
    "# Converting emp_length to integer values\n",
    "# Converting emp_length as numerical data to create more effective statistical analysis as compared to nominal values\n",
    "loan['emp_length'] = loan['emp_length'].replace({'< 1 year': 0, '2 years': 2, '3 years': 3, \n",
    "                                                         '7 years': 7, '4 years': 4, '5 years': 5, \n",
    "                                                         '1 year': 1, '6 years': 6, '8 years': 8, \n",
    "                                                         '9 years': 9,  '10+ years': 10})\n",
    "\n"
   ]
  },
  {
   "cell_type": "code",
   "execution_count": 263,
   "id": "65f9b7e2",
   "metadata": {},
   "outputs": [],
   "source": [
    "# Print the current dimensions of the dataframe\n",
    "rows_before = len(loan)"
   ]
  },
  {
   "cell_type": "code",
   "execution_count": 264,
   "id": "a9d7a06f",
   "metadata": {},
   "outputs": [],
   "source": [
    "# Drop rows with empty values in this scenario\n",
    "# Since the percent of rows is very small, dropping the rows instead of imputing them\n",
    "loan = loan[loan['emp_length'].notna()]\n",
    "loan = loan[loan['pub_rec_bankruptcies'].notna()]"
   ]
  },
  {
   "cell_type": "code",
   "execution_count": 265,
   "id": "0a83af75",
   "metadata": {},
   "outputs": [
    {
     "data": {
      "text/plain": [
       "10.0    8369\n",
       "0.0     4341\n",
       "2.0     4207\n",
       "3.0     3951\n",
       "4.0     3297\n",
       "5.0     3161\n",
       "1.0     3077\n",
       "6.0     2136\n",
       "7.0     1689\n",
       "8.0     1410\n",
       "9.0     1209\n",
       "Name: emp_length, dtype: int64"
      ]
     },
     "execution_count": 265,
     "metadata": {},
     "output_type": "execute_result"
    }
   ],
   "source": [
    "# Checking if blanks exist\n",
    "loan['emp_length'].value_counts()"
   ]
  },
  {
   "cell_type": "code",
   "execution_count": 266,
   "id": "14eb71e9",
   "metadata": {
    "scrolled": false
   },
   "outputs": [
    {
     "name": "stdout",
     "output_type": "stream",
     "text": [
      "Number of rows dropped = , 1730\n",
      "Percentage of rows dropped =  4.48 %\n",
      "(36847, 21)\n"
     ]
    }
   ],
   "source": [
    "# Print the dimensions of the dataframe after dropping rows\n",
    "rows_after = len(loan)\n",
    "print(\"Number of rows dropped = ,\", (rows_before - rows_after))\n",
    "print(\"Percentage of rows dropped = \", round((rows_before - rows_after)/rows_before*100,2),\"%\")\n",
    "print(loan.shape)"
   ]
  },
  {
   "cell_type": "markdown",
   "id": "b57cf057",
   "metadata": {},
   "source": [
    "## Step 5 - Analysis of the dataset post cleanup"
   ]
  },
  {
   "cell_type": "code",
   "execution_count": 267,
   "id": "1cee0e74",
   "metadata": {
    "scrolled": true
   },
   "outputs": [
    {
     "name": "stdout",
     "output_type": "stream",
     "text": [
      "<class 'pandas.core.frame.DataFrame'>\n",
      "Int64Index: 36847 entries, 0 to 39680\n",
      "Data columns (total 21 columns):\n",
      " #   Column                       Non-Null Count  Dtype         \n",
      "---  ------                       --------------  -----         \n",
      " 0   loan_amnt                    36847 non-null  float64       \n",
      " 1   funded_amnt                  36847 non-null  float64       \n",
      " 2   funded_amnt_inv              36847 non-null  float64       \n",
      " 3   term                         36847 non-null  int64         \n",
      " 4   int_rate                     36847 non-null  float64       \n",
      " 5   installment                  36847 non-null  float64       \n",
      " 6   grade                        36847 non-null  object        \n",
      " 7   emp_length                   36847 non-null  float64       \n",
      " 8   home_ownership               36847 non-null  object        \n",
      " 9   annual_inc                   36847 non-null  float64       \n",
      " 10  verification_status          36847 non-null  object        \n",
      " 11  issue_d                      36847 non-null  datetime64[ns]\n",
      " 12  loan_status                  36847 non-null  object        \n",
      " 13  purpose                      36847 non-null  object        \n",
      " 14  zip_code                     36847 non-null  object        \n",
      " 15  addr_state                   36847 non-null  object        \n",
      " 16  dti                          36847 non-null  float64       \n",
      " 17  pub_rec_bankruptcies         36847 non-null  float64       \n",
      " 18  issue_y                      36847 non-null  int64         \n",
      " 19  issue_m                      36847 non-null  int64         \n",
      " 20  verification_status_nominal  36847 non-null  int64         \n",
      "dtypes: datetime64[ns](1), float64(9), int64(4), object(7)\n",
      "memory usage: 6.2+ MB\n",
      "None\n"
     ]
    }
   ],
   "source": [
    "# Printing column info to analyse missing values, empty values in a column\n",
    "print(loan.info())"
   ]
  },
  {
   "cell_type": "code",
   "execution_count": 268,
   "id": "225b0a3e",
   "metadata": {},
   "outputs": [
    {
     "data": {
      "text/plain": [
       "(36847, 21)"
      ]
     },
     "execution_count": 268,
     "metadata": {},
     "output_type": "execute_result"
    }
   ],
   "source": [
    "loan.shape"
   ]
  },
  {
   "cell_type": "code",
   "execution_count": 269,
   "id": "e87699fe",
   "metadata": {},
   "outputs": [
    {
     "data": {
      "text/plain": [
       "Index(['loan_amnt', 'funded_amnt', 'funded_amnt_inv', 'term', 'int_rate',\n",
       "       'installment', 'grade', 'emp_length', 'home_ownership', 'annual_inc',\n",
       "       'verification_status', 'issue_d', 'loan_status', 'purpose', 'zip_code',\n",
       "       'addr_state', 'dti', 'pub_rec_bankruptcies', 'issue_y', 'issue_m',\n",
       "       'verification_status_nominal'],\n",
       "      dtype='object')"
      ]
     },
     "execution_count": 269,
     "metadata": {},
     "output_type": "execute_result"
    }
   ],
   "source": [
    "loan.columns"
   ]
  },
  {
   "cell_type": "code",
   "execution_count": 270,
   "id": "fc925ac8",
   "metadata": {},
   "outputs": [
    {
     "data": {
      "text/html": [
       "<div>\n",
       "<style scoped>\n",
       "    .dataframe tbody tr th:only-of-type {\n",
       "        vertical-align: middle;\n",
       "    }\n",
       "\n",
       "    .dataframe tbody tr th {\n",
       "        vertical-align: top;\n",
       "    }\n",
       "\n",
       "    .dataframe thead th {\n",
       "        text-align: right;\n",
       "    }\n",
       "</style>\n",
       "<table border=\"1\" class=\"dataframe\">\n",
       "  <thead>\n",
       "    <tr style=\"text-align: right;\">\n",
       "      <th></th>\n",
       "      <th>LoanStatNew</th>\n",
       "      <th>Description</th>\n",
       "      <th>Column Status</th>\n",
       "      <th>Reason</th>\n",
       "      <th>Type Analysis</th>\n",
       "    </tr>\n",
       "  </thead>\n",
       "  <tbody>\n",
       "    <tr>\n",
       "      <th>2</th>\n",
       "      <td>addr_state</td>\n",
       "      <td>The state provided by the borrower in the loan...</td>\n",
       "      <td>Retained</td>\n",
       "      <td>NaN</td>\n",
       "      <td>Unordered Categorical Variable</td>\n",
       "    </tr>\n",
       "    <tr>\n",
       "      <th>4</th>\n",
       "      <td>annual_inc</td>\n",
       "      <td>The self-reported annual income provided by th...</td>\n",
       "      <td>Retained</td>\n",
       "      <td>Important Attribute</td>\n",
       "      <td>NaN</td>\n",
       "    </tr>\n",
       "    <tr>\n",
       "      <th>16</th>\n",
       "      <td>dti</td>\n",
       "      <td>A ratio calculated using the borrower’s total ...</td>\n",
       "      <td>Retained</td>\n",
       "      <td>Important Attribute</td>\n",
       "      <td>NaN</td>\n",
       "    </tr>\n",
       "    <tr>\n",
       "      <th>19</th>\n",
       "      <td>emp_length</td>\n",
       "      <td>Employment length in years. Possible values ar...</td>\n",
       "      <td>Retained</td>\n",
       "      <td>Important Attribute</td>\n",
       "      <td>Ordered Categorical Variable</td>\n",
       "    </tr>\n",
       "    <tr>\n",
       "      <th>23</th>\n",
       "      <td>funded_amnt</td>\n",
       "      <td>The total amount committed to that loan at tha...</td>\n",
       "      <td>Retained</td>\n",
       "      <td>NaN</td>\n",
       "      <td>NaN</td>\n",
       "    </tr>\n",
       "    <tr>\n",
       "      <th>24</th>\n",
       "      <td>funded_amnt_inv</td>\n",
       "      <td>The total amount committed by investors for th...</td>\n",
       "      <td>Retained</td>\n",
       "      <td>NaN</td>\n",
       "      <td>NaN</td>\n",
       "    </tr>\n",
       "    <tr>\n",
       "      <th>25</th>\n",
       "      <td>grade</td>\n",
       "      <td>LC assigned loan grade</td>\n",
       "      <td>Retained</td>\n",
       "      <td>Important Attribute</td>\n",
       "      <td>Unordered Categorical Variable</td>\n",
       "    </tr>\n",
       "    <tr>\n",
       "      <th>26</th>\n",
       "      <td>home_ownership</td>\n",
       "      <td>The home ownership status provided by the borr...</td>\n",
       "      <td>Retained</td>\n",
       "      <td>Important Attribute</td>\n",
       "      <td>Unordered Categorical Variable</td>\n",
       "    </tr>\n",
       "    <tr>\n",
       "      <th>33</th>\n",
       "      <td>installment</td>\n",
       "      <td>The monthly payment owed by the borrower if th...</td>\n",
       "      <td>Retained</td>\n",
       "      <td>NaN</td>\n",
       "      <td>NaN</td>\n",
       "    </tr>\n",
       "    <tr>\n",
       "      <th>34</th>\n",
       "      <td>int_rate</td>\n",
       "      <td>Interest Rate on the loan</td>\n",
       "      <td>Retained</td>\n",
       "      <td>NaN</td>\n",
       "      <td>NaN</td>\n",
       "    </tr>\n",
       "    <tr>\n",
       "      <th>35</th>\n",
       "      <td>issue_d</td>\n",
       "      <td>The month which the loan was funded</td>\n",
       "      <td>Retained</td>\n",
       "      <td>NaN</td>\n",
       "      <td>Ordered Categorical Variable</td>\n",
       "    </tr>\n",
       "    <tr>\n",
       "      <th>41</th>\n",
       "      <td>loan_amnt</td>\n",
       "      <td>The listed amount of the loan applied for by t...</td>\n",
       "      <td>Retained</td>\n",
       "      <td>Important Attribute</td>\n",
       "      <td>NaN</td>\n",
       "    </tr>\n",
       "    <tr>\n",
       "      <th>42</th>\n",
       "      <td>loan_status</td>\n",
       "      <td>Current status of the loan</td>\n",
       "      <td>Retained</td>\n",
       "      <td>Leading Attribute</td>\n",
       "      <td>Ordered Categorical Variable</td>\n",
       "    </tr>\n",
       "    <tr>\n",
       "      <th>86</th>\n",
       "      <td>pub_rec_bankruptcies</td>\n",
       "      <td>Number of public record bankruptcies</td>\n",
       "      <td>Retained</td>\n",
       "      <td>NaN</td>\n",
       "      <td>Ordered Categorical Variable</td>\n",
       "    </tr>\n",
       "    <tr>\n",
       "      <th>87</th>\n",
       "      <td>purpose</td>\n",
       "      <td>A category provided by the borrower for the lo...</td>\n",
       "      <td>Retained</td>\n",
       "      <td>Important Attribute</td>\n",
       "      <td>Unordered Categorical Variable</td>\n",
       "    </tr>\n",
       "    <tr>\n",
       "      <th>94</th>\n",
       "      <td>term</td>\n",
       "      <td>The number of payments on the loan. Values are...</td>\n",
       "      <td>Retained</td>\n",
       "      <td>Important Attribute</td>\n",
       "      <td>Ordered Categorical Variable</td>\n",
       "    </tr>\n",
       "    <tr>\n",
       "      <th>112</th>\n",
       "      <td>verification_status</td>\n",
       "      <td>Indicates if income was verified by LC, not ve...</td>\n",
       "      <td>Retained</td>\n",
       "      <td>Important Attribute</td>\n",
       "      <td>Unordered Categorical Variable</td>\n",
       "    </tr>\n",
       "    <tr>\n",
       "      <th>114</th>\n",
       "      <td>zip_code</td>\n",
       "      <td>The first 3 numbers of the zip code provided b...</td>\n",
       "      <td>Retained</td>\n",
       "      <td>NaN</td>\n",
       "      <td>Unordered Categorical Variable</td>\n",
       "    </tr>\n",
       "  </tbody>\n",
       "</table>\n",
       "</div>"
      ],
      "text/plain": [
       "              LoanStatNew                                        Description  \\\n",
       "2              addr_state  The state provided by the borrower in the loan...   \n",
       "4              annual_inc  The self-reported annual income provided by th...   \n",
       "16                    dti  A ratio calculated using the borrower’s total ...   \n",
       "19             emp_length  Employment length in years. Possible values ar...   \n",
       "23            funded_amnt  The total amount committed to that loan at tha...   \n",
       "24        funded_amnt_inv  The total amount committed by investors for th...   \n",
       "25                  grade                             LC assigned loan grade   \n",
       "26         home_ownership  The home ownership status provided by the borr...   \n",
       "33            installment  The monthly payment owed by the borrower if th...   \n",
       "34               int_rate                          Interest Rate on the loan   \n",
       "35                issue_d                The month which the loan was funded   \n",
       "41              loan_amnt  The listed amount of the loan applied for by t...   \n",
       "42            loan_status                         Current status of the loan   \n",
       "86   pub_rec_bankruptcies               Number of public record bankruptcies   \n",
       "87                purpose  A category provided by the borrower for the lo...   \n",
       "94                   term  The number of payments on the loan. Values are...   \n",
       "112   verification_status  Indicates if income was verified by LC, not ve...   \n",
       "114              zip_code  The first 3 numbers of the zip code provided b...   \n",
       "\n",
       "    Column Status               Reason                   Type Analysis  \n",
       "2        Retained                  NaN  Unordered Categorical Variable  \n",
       "4        Retained  Important Attribute                             NaN  \n",
       "16       Retained  Important Attribute                             NaN  \n",
       "19       Retained  Important Attribute    Ordered Categorical Variable  \n",
       "23       Retained                  NaN                             NaN  \n",
       "24       Retained                  NaN                             NaN  \n",
       "25       Retained  Important Attribute  Unordered Categorical Variable  \n",
       "26       Retained  Important Attribute  Unordered Categorical Variable  \n",
       "33       Retained                  NaN                             NaN  \n",
       "34       Retained                  NaN                             NaN  \n",
       "35       Retained                  NaN    Ordered Categorical Variable  \n",
       "41       Retained  Important Attribute                             NaN  \n",
       "42       Retained    Leading Attribute    Ordered Categorical Variable  \n",
       "86       Retained                  NaN    Ordered Categorical Variable  \n",
       "87       Retained  Important Attribute  Unordered Categorical Variable  \n",
       "94       Retained  Important Attribute    Ordered Categorical Variable  \n",
       "112      Retained  Important Attribute  Unordered Categorical Variable  \n",
       "114      Retained                  NaN  Unordered Categorical Variable  "
      ]
     },
     "execution_count": 270,
     "metadata": {},
     "output_type": "execute_result"
    }
   ],
   "source": [
    "# Displaying retained columns in the final dataset which will be used for analysis\n",
    "dict[dict['Column Status'] == \"Retained\"]"
   ]
  },
  {
   "cell_type": "markdown",
   "id": "1905acc7",
   "metadata": {},
   "source": [
    "## Step 6 - Outlier Treatment & Column Analysis"
   ]
  },
  {
   "cell_type": "code",
   "execution_count": 494,
   "id": "889fccaa",
   "metadata": {},
   "outputs": [],
   "source": [
    "column_titles = {\n",
    "    'loan_amnt': 'Loan Amount',\n",
    "    'funded_amnt': 'Funded Amount',\n",
    "    'funded_amnt_inv': 'Funded Amount Investors',\n",
    "    'term': 'term',\n",
    "    'int_rate': 'int_rate',\n",
    "    'installment': 'installment',\n",
    "    'grade': 'grade',\n",
    "    'emp_length': 'emp_length',\n",
    "    'home_ownership': 'home_ownership',\n",
    "    'annual_inc': 'annual_inc', \n",
    "    'verification_status': 'verification_status',\n",
    "    'issue_d': 'issue_d',\n",
    "    'loan_status': 'loan_status',\n",
    "    'purpose': 'purpose',\n",
    "    'addr_state': 'addr_state',\n",
    "    'dti': 'dti',\n",
    "    'pub_rec_bankruptcies': 'pub_rec_bankruptcies',\n",
    "    'issue_y': 'issue_y',\n",
    "    'issue_m': 'issue_m'\n",
    "}\n",
    "\n",
    "# This function creates a dictionary of outliers which includes the inter quartile range, \n",
    "# lower and upper bound for a particular column.\n",
    "# Formulae used in this analysis\n",
    "# IQR = 75th Quartile - 25th Quartile\n",
    "# Lower Bound = 25th Quartile - 1.5 * IQR\n",
    "# Upper Bound = 75th Quartile + 1.5 * IQR\n",
    "\n",
    "def get_iqr(df, column, boundary=1.5):\n",
    "    quar25 = df[column].quantile(0.25)\n",
    "    quar75 = df[column].quantile(0.75)\n",
    "    iqr = quar75 - quar25\n",
    "    lower = quar25 - boundary * iqr\n",
    "    upper = quar75 + boundary * iqr\n",
    "    return {'quartile1': quar25, 'quartile3': quar75, 'iqr': iqr, 'lower_bound': lower, 'upper_bound': upper}\n",
    "\n",
    "\n",
    "# The function treat outliers, prints a box plot for each column under consideration\n",
    "# Plot 1 = Before outlier treatment\n",
    "# Plot 2 = Post outlier treatment\n",
    "# Also prints statistics of how many rows and percentage of rows dropped\n",
    "\n",
    "def outlier_comparison(df, column, boundary=1.5):\n",
    "    fig, p = plot.subplots(1,2,figsize=(12, 3))\n",
    "    splot1 = sea.boxplot(df[column], ax=p[0], orient=\"h\")\n",
    "    splot1.set_title('Plot ['+ column + '] - Original')\n",
    "    new_df = df[df[column] < get_iqr(df, column, boundary)['upper_bound']]\n",
    "    splot2 = sea.boxplot(new_df[column], ax=p[1])\n",
    "    splot2.set_title('Plot [' + column + '] - Post Outlier Treatment')\n",
    "    plot.tight_layout()\n",
    "    plot.show()\n",
    "    \n",
    "def treat_outlier(df, column, boundary, stats=False):\n",
    "    old_rows = len(df)\n",
    "    new_df = df[df[column] < get_iqr(df, column, boundary)['upper_bound']]\n",
    "    new_rows = len(new_df)\n",
    "    if stats:\n",
    "        print('Rows dropped: ', old_rows - new_rows)\n",
    "        print('Percentage rows dropped: ', round((old_rows - new_rows)/old_rows*100,2), \"%\")\n",
    "    return new_df\n",
    "    \n",
    "\n",
    "def analysis_plots_v1(df, col):\n",
    "    fig, p = plot.subplots(1,2,figsize=(12, 3))\n",
    "    splot = sea.countplot(df[col], ax=p[0])\n",
    "    splot.set_xticklabels(splot.get_xticklabels(), rotation=90);\n",
    "    p[0].set_title('['+ col + '] - loan_status=all')\n",
    "    cross_tab = pd.crosstab(df[col], df['loan_status'], normalize='index')\n",
    "    cross_tab.plot.bar(ax=p[1], stacked=True)\n",
    "    p[1].set_title('['+ col + '] - Stacked')\n",
    "    plot.show()\n",
    "\n",
    "def analysis_plots_v2(df, col_name, continuous, title1, title2):\n",
    "    f, (ax1, ax2) = plot.subplots(nrows=1, ncols=2, figsize=(12,3))\n",
    "    if continuous:\n",
    "        sea.distplot(df.loc[df[col_name].notnull(), col_name], kde=False, ax=ax1)\n",
    "        sea.boxplot(x=col_name, y='loan_status', data=df, ax=ax2)\n",
    "    else:\n",
    "        sea.countplot(df[col_name], order=sorted(df[col_name].unique()), saturation=1, ax=ax1)\n",
    "        charge_off_rates = df.groupby(col_name)['loan_status'].value_counts(normalize=True).loc[:,'Charged Off']\n",
    "        sea.barplot(x=charge_off_rates.index, y=charge_off_rates.values, saturation=1, ax=ax2)\n",
    "    \n",
    "    ax1.set_xlabel(title1)\n",
    "    ax2.set_xlabel(title2)\n",
    "    \n",
    "    plot.tight_layout()\n",
    "    plot.show()\n",
    "\n",
    "def column_analysis(df, column, boundary=1.5, continuous=True):\n",
    "    outlier_comparison(df, column, boundary)\n",
    "    analysis_plots_v2(df, column, continuous, column_titles[column], column_titles[column] + 'by Loan Status')\n",
    "    analysis_plots_v2(treat_outlier(df, column, boundary), column, continuous, 'Post Outlier ' \n",
    "                      + column_titles[column], 'Post Outlier ' + column_titles[column] + 'by Loan Status')\n",
    "    return df.groupby('loan_status')['loan_amnt'].describe()"
   ]
  },
  {
   "cell_type": "code",
   "execution_count": 495,
   "id": "d02be70f",
   "metadata": {},
   "outputs": [],
   "source": [
    "# Taking a snapshot post outlier treatment\n",
    "#loan.to_csv('./.data/snapshot.clean.loan.csv') "
   ]
  },
  {
   "cell_type": "markdown",
   "id": "69af4a99",
   "metadata": {},
   "source": [
    "## Step 7 - Analysis"
   ]
  },
  {
   "cell_type": "markdown",
   "id": "a0cb58ea",
   "metadata": {},
   "source": [
    "### loan_amnt"
   ]
  },
  {
   "cell_type": "code",
   "execution_count": 496,
   "id": "69dfae15",
   "metadata": {},
   "outputs": [
    {
     "data": {
      "text/plain": [
       "count    36847.000000\n",
       "mean     11141.327652\n",
       "std       7369.988994\n",
       "min        500.000000\n",
       "25%       5500.000000\n",
       "50%      10000.000000\n",
       "75%      15000.000000\n",
       "max      35000.000000\n",
       "Name: loan_amnt, dtype: float64"
      ]
     },
     "execution_count": 496,
     "metadata": {},
     "output_type": "execute_result"
    }
   ],
   "source": [
    "loan['loan_amnt'].describe()"
   ]
  },
  {
   "cell_type": "code",
   "execution_count": 497,
   "id": "b0f21fa5",
   "metadata": {},
   "outputs": [
    {
     "data": {
      "image/png": "[encoded data removed]",
      "text/plain": [
       "<Figure size 864x216 with 2 Axes>"
      ]
     },
     "metadata": {
      "needs_background": "light"
     },
     "output_type": "display_data"
    },
    {
     "data": {
      "image/png": "[encoded data removed]",
      "text/plain": [
       "<Figure size 864x216 with 2 Axes>"
      ]
     },
     "metadata": {
      "needs_background": "light"
     },
     "output_type": "display_data"
    },
    {
     "data": {
      "image/png": "[encoded data removed]",
      "text/plain": [
       "<Figure size 864x216 with 2 Axes>"
      ]
     },
     "metadata": {
      "needs_background": "light"
     },
     "output_type": "display_data"
    },
    {
     "data": {
      "text/html": [
       "<div>\n",
       "<style scoped>\n",
       "    .dataframe tbody tr th:only-of-type {\n",
       "        vertical-align: middle;\n",
       "    }\n",
       "\n",
       "    .dataframe tbody tr th {\n",
       "        vertical-align: top;\n",
       "    }\n",
       "\n",
       "    .dataframe thead th {\n",
       "        text-align: right;\n",
       "    }\n",
       "</style>\n",
       "<table border=\"1\" class=\"dataframe\">\n",
       "  <thead>\n",
       "    <tr style=\"text-align: right;\">\n",
       "      <th></th>\n",
       "      <th>count</th>\n",
       "      <th>mean</th>\n",
       "      <th>std</th>\n",
       "      <th>min</th>\n",
       "      <th>25%</th>\n",
       "      <th>50%</th>\n",
       "      <th>75%</th>\n",
       "      <th>max</th>\n",
       "    </tr>\n",
       "    <tr>\n",
       "      <th>loan_status</th>\n",
       "      <th></th>\n",
       "      <th></th>\n",
       "      <th></th>\n",
       "      <th></th>\n",
       "      <th></th>\n",
       "      <th></th>\n",
       "      <th></th>\n",
       "      <th></th>\n",
       "    </tr>\n",
       "  </thead>\n",
       "  <tbody>\n",
       "    <tr>\n",
       "      <th>Charged Off</th>\n",
       "      <td>5281.0</td>\n",
       "      <td>12236.347283</td>\n",
       "      <td>8103.456528</td>\n",
       "      <td>1000.0</td>\n",
       "      <td>6000.0</td>\n",
       "      <td>10000.0</td>\n",
       "      <td>16950.0</td>\n",
       "      <td>35000.0</td>\n",
       "    </tr>\n",
       "    <tr>\n",
       "      <th>Fully Paid</th>\n",
       "      <td>31566.0</td>\n",
       "      <td>10958.130584</td>\n",
       "      <td>7223.977380</td>\n",
       "      <td>500.0</td>\n",
       "      <td>5400.0</td>\n",
       "      <td>9600.0</td>\n",
       "      <td>15000.0</td>\n",
       "      <td>35000.0</td>\n",
       "    </tr>\n",
       "  </tbody>\n",
       "</table>\n",
       "</div>"
      ],
      "text/plain": [
       "               count          mean          std     min     25%      50%  \\\n",
       "loan_status                                                                \n",
       "Charged Off   5281.0  12236.347283  8103.456528  1000.0  6000.0  10000.0   \n",
       "Fully Paid   31566.0  10958.130584  7223.977380   500.0  5400.0   9600.0   \n",
       "\n",
       "                 75%      max  \n",
       "loan_status                    \n",
       "Charged Off  16950.0  35000.0  \n",
       "Fully Paid   15000.0  35000.0  "
      ]
     },
     "execution_count": 497,
     "metadata": {},
     "output_type": "execute_result"
    }
   ],
   "source": [
    "# ['loan_amnt', 'funded_amnt', 'funded_amnt_inv', 'int_rate', 'installment', 'annual_inc', 'dti']\n",
    "column_analysis(loan, 'loan_amnt', 1.5, True)"
   ]
  },
  {
   "cell_type": "markdown",
   "id": "c8b2e684",
   "metadata": {},
   "source": [
    "### funded_amnt"
   ]
  },
  {
   "cell_type": "code",
   "execution_count": 423,
   "id": "eae168c5",
   "metadata": {},
   "outputs": [
    {
     "data": {
      "text/plain": [
       "count    36847.000000\n",
       "mean     10872.924526\n",
       "std       7109.330771\n",
       "min        500.000000\n",
       "25%       5400.000000\n",
       "50%       9600.000000\n",
       "75%      15000.000000\n",
       "max      35000.000000\n",
       "Name: funded_amnt, dtype: float64"
      ]
     },
     "execution_count": 423,
     "metadata": {},
     "output_type": "execute_result"
    }
   ],
   "source": [
    "loan['funded_amnt'].describe()"
   ]
  },
  {
   "cell_type": "code",
   "execution_count": 498,
   "id": "6b9b4666",
   "metadata": {},
   "outputs": [
    {
     "data": {
      "image/png": "[encoded data removed]",
      "text/plain": [
       "<Figure size 864x216 with 2 Axes>"
      ]
     },
     "metadata": {
      "needs_background": "light"
     },
     "output_type": "display_data"
    },
    {
     "data": {
      "image/png": "[encoded data removed]",
      "text/plain": [
       "<Figure size 864x216 with 2 Axes>"
      ]
     },
     "metadata": {
      "needs_background": "light"
     },
     "output_type": "display_data"
    },
    {
     "data": {
      "image/png": "[encoded data removed]",
      "text/plain": [
       "<Figure size 864x216 with 2 Axes>"
      ]
     },
     "metadata": {
      "needs_background": "light"
     },
     "output_type": "display_data"
    },
    {
     "data": {
      "text/html": [
       "<div>\n",
       "<style scoped>\n",
       "    .dataframe tbody tr th:only-of-type {\n",
       "        vertical-align: middle;\n",
       "    }\n",
       "\n",
       "    .dataframe tbody tr th {\n",
       "        vertical-align: top;\n",
       "    }\n",
       "\n",
       "    .dataframe thead th {\n",
       "        text-align: right;\n",
       "    }\n",
       "</style>\n",
       "<table border=\"1\" class=\"dataframe\">\n",
       "  <thead>\n",
       "    <tr style=\"text-align: right;\">\n",
       "      <th></th>\n",
       "      <th>count</th>\n",
       "      <th>mean</th>\n",
       "      <th>std</th>\n",
       "      <th>min</th>\n",
       "      <th>25%</th>\n",
       "      <th>50%</th>\n",
       "      <th>75%</th>\n",
       "      <th>max</th>\n",
       "    </tr>\n",
       "    <tr>\n",
       "      <th>loan_status</th>\n",
       "      <th></th>\n",
       "      <th></th>\n",
       "      <th></th>\n",
       "      <th></th>\n",
       "      <th></th>\n",
       "      <th></th>\n",
       "      <th></th>\n",
       "      <th></th>\n",
       "    </tr>\n",
       "  </thead>\n",
       "  <tbody>\n",
       "    <tr>\n",
       "      <th>Charged Off</th>\n",
       "      <td>5281.0</td>\n",
       "      <td>12236.347283</td>\n",
       "      <td>8103.456528</td>\n",
       "      <td>1000.0</td>\n",
       "      <td>6000.0</td>\n",
       "      <td>10000.0</td>\n",
       "      <td>16950.0</td>\n",
       "      <td>35000.0</td>\n",
       "    </tr>\n",
       "    <tr>\n",
       "      <th>Fully Paid</th>\n",
       "      <td>31566.0</td>\n",
       "      <td>10958.130584</td>\n",
       "      <td>7223.977380</td>\n",
       "      <td>500.0</td>\n",
       "      <td>5400.0</td>\n",
       "      <td>9600.0</td>\n",
       "      <td>15000.0</td>\n",
       "      <td>35000.0</td>\n",
       "    </tr>\n",
       "  </tbody>\n",
       "</table>\n",
       "</div>"
      ],
      "text/plain": [
       "               count          mean          std     min     25%      50%  \\\n",
       "loan_status                                                                \n",
       "Charged Off   5281.0  12236.347283  8103.456528  1000.0  6000.0  10000.0   \n",
       "Fully Paid   31566.0  10958.130584  7223.977380   500.0  5400.0   9600.0   \n",
       "\n",
       "                 75%      max  \n",
       "loan_status                    \n",
       "Charged Off  16950.0  35000.0  \n",
       "Fully Paid   15000.0  35000.0  "
      ]
     },
     "execution_count": 498,
     "metadata": {},
     "output_type": "execute_result"
    }
   ],
   "source": [
    "column_analysis(loan, 'funded_amnt')"
   ]
  },
  {
   "cell_type": "markdown",
   "id": "ec31d511",
   "metadata": {},
   "source": [
    "### funded_amnt_inv"
   ]
  },
  {
   "cell_type": "code",
   "execution_count": 425,
   "id": "1b537bba",
   "metadata": {},
   "outputs": [
    {
     "data": {
      "text/plain": [
       "count    36847.000000\n",
       "mean     10430.400868\n",
       "std       7008.919433\n",
       "min          0.000000\n",
       "25%       5000.000000\n",
       "50%       9000.000000\n",
       "75%      14335.045000\n",
       "max      35000.000000\n",
       "Name: funded_amnt_inv, dtype: float64"
      ]
     },
     "execution_count": 425,
     "metadata": {},
     "output_type": "execute_result"
    }
   ],
   "source": [
    "loan['funded_amnt_inv'].describe()"
   ]
  },
  {
   "cell_type": "code",
   "execution_count": 499,
   "id": "8d4594c2",
   "metadata": {
    "scrolled": false
   },
   "outputs": [
    {
     "data": {
      "image/png": "[encoded data removed]",
      "text/plain": [
       "<Figure size 864x216 with 2 Axes>"
      ]
     },
     "metadata": {
      "needs_background": "light"
     },
     "output_type": "display_data"
    },
    {
     "data": {
      "image/png": "[encoded data removed]",
      "text/plain": [
       "<Figure size 864x216 with 2 Axes>"
      ]
     },
     "metadata": {
      "needs_background": "light"
     },
     "output_type": "display_data"
    },
    {
     "data": {
      "image/png": "[encoded data removed]",
      "text/plain": [
       "<Figure size 864x216 with 2 Axes>"
      ]
     },
     "metadata": {
      "needs_background": "light"
     },
     "output_type": "display_data"
    },
    {
     "data": {
      "text/html": [
       "<div>\n",
       "<style scoped>\n",
       "    .dataframe tbody tr th:only-of-type {\n",
       "        vertical-align: middle;\n",
       "    }\n",
       "\n",
       "    .dataframe tbody tr th {\n",
       "        vertical-align: top;\n",
       "    }\n",
       "\n",
       "    .dataframe thead th {\n",
       "        text-align: right;\n",
       "    }\n",
       "</style>\n",
       "<table border=\"1\" class=\"dataframe\">\n",
       "  <thead>\n",
       "    <tr style=\"text-align: right;\">\n",
       "      <th></th>\n",
       "      <th>count</th>\n",
       "      <th>mean</th>\n",
       "      <th>std</th>\n",
       "      <th>min</th>\n",
       "      <th>25%</th>\n",
       "      <th>50%</th>\n",
       "      <th>75%</th>\n",
       "      <th>max</th>\n",
       "    </tr>\n",
       "    <tr>\n",
       "      <th>loan_status</th>\n",
       "      <th></th>\n",
       "      <th></th>\n",
       "      <th></th>\n",
       "      <th></th>\n",
       "      <th></th>\n",
       "      <th></th>\n",
       "      <th></th>\n",
       "      <th></th>\n",
       "    </tr>\n",
       "  </thead>\n",
       "  <tbody>\n",
       "    <tr>\n",
       "      <th>Charged Off</th>\n",
       "      <td>5281.0</td>\n",
       "      <td>12236.347283</td>\n",
       "      <td>8103.456528</td>\n",
       "      <td>1000.0</td>\n",
       "      <td>6000.0</td>\n",
       "      <td>10000.0</td>\n",
       "      <td>16950.0</td>\n",
       "      <td>35000.0</td>\n",
       "    </tr>\n",
       "    <tr>\n",
       "      <th>Fully Paid</th>\n",
       "      <td>31566.0</td>\n",
       "      <td>10958.130584</td>\n",
       "      <td>7223.977380</td>\n",
       "      <td>500.0</td>\n",
       "      <td>5400.0</td>\n",
       "      <td>9600.0</td>\n",
       "      <td>15000.0</td>\n",
       "      <td>35000.0</td>\n",
       "    </tr>\n",
       "  </tbody>\n",
       "</table>\n",
       "</div>"
      ],
      "text/plain": [
       "               count          mean          std     min     25%      50%  \\\n",
       "loan_status                                                                \n",
       "Charged Off   5281.0  12236.347283  8103.456528  1000.0  6000.0  10000.0   \n",
       "Fully Paid   31566.0  10958.130584  7223.977380   500.0  5400.0   9600.0   \n",
       "\n",
       "                 75%      max  \n",
       "loan_status                    \n",
       "Charged Off  16950.0  35000.0  \n",
       "Fully Paid   15000.0  35000.0  "
      ]
     },
     "execution_count": 499,
     "metadata": {},
     "output_type": "execute_result"
    }
   ],
   "source": [
    "column_analysis(loan, 'funded_amnt_inv')"
   ]
  },
  {
   "cell_type": "markdown",
   "id": "14786296",
   "metadata": {},
   "source": [
    "### int_rate"
   ]
  },
  {
   "cell_type": "code",
   "execution_count": 429,
   "id": "62d48a44",
   "metadata": {
    "scrolled": true
   },
   "outputs": [
    {
     "data": {
      "text/plain": [
       "count    36847.000000\n",
       "mean        11.988346\n",
       "std          3.702091\n",
       "min          5.420000\n",
       "25%          8.940000\n",
       "50%         11.860000\n",
       "75%         14.520000\n",
       "max         24.400000\n",
       "Name: int_rate, dtype: float64"
      ]
     },
     "execution_count": 429,
     "metadata": {},
     "output_type": "execute_result"
    }
   ],
   "source": [
    "loan['int_rate'].describe()"
   ]
  },
  {
   "cell_type": "code",
   "execution_count": 500,
   "id": "0f2db1af",
   "metadata": {
    "scrolled": false
   },
   "outputs": [
    {
     "data": {
      "image/png": "[encoded data removed]",
      "text/plain": [
       "<Figure size 864x216 with 2 Axes>"
      ]
     },
     "metadata": {
      "needs_background": "light"
     },
     "output_type": "display_data"
    },
    {
     "data": {
      "image/png": "[encoded data removed]",
      "text/plain": [
       "<Figure size 864x216 with 2 Axes>"
      ]
     },
     "metadata": {
      "needs_background": "light"
     },
     "output_type": "display_data"
    },
    {
     "data": {
      "image/png": "[encoded data removed]",
      "text/plain": [
       "<Figure size 864x216 with 2 Axes>"
      ]
     },
     "metadata": {
      "needs_background": "light"
     },
     "output_type": "display_data"
    },
    {
     "data": {
      "text/html": [
       "<div>\n",
       "<style scoped>\n",
       "    .dataframe tbody tr th:only-of-type {\n",
       "        vertical-align: middle;\n",
       "    }\n",
       "\n",
       "    .dataframe tbody tr th {\n",
       "        vertical-align: top;\n",
       "    }\n",
       "\n",
       "    .dataframe thead th {\n",
       "        text-align: right;\n",
       "    }\n",
       "</style>\n",
       "<table border=\"1\" class=\"dataframe\">\n",
       "  <thead>\n",
       "    <tr style=\"text-align: right;\">\n",
       "      <th></th>\n",
       "      <th>count</th>\n",
       "      <th>mean</th>\n",
       "      <th>std</th>\n",
       "      <th>min</th>\n",
       "      <th>25%</th>\n",
       "      <th>50%</th>\n",
       "      <th>75%</th>\n",
       "      <th>max</th>\n",
       "    </tr>\n",
       "    <tr>\n",
       "      <th>loan_status</th>\n",
       "      <th></th>\n",
       "      <th></th>\n",
       "      <th></th>\n",
       "      <th></th>\n",
       "      <th></th>\n",
       "      <th></th>\n",
       "      <th></th>\n",
       "      <th></th>\n",
       "    </tr>\n",
       "  </thead>\n",
       "  <tbody>\n",
       "    <tr>\n",
       "      <th>Charged Off</th>\n",
       "      <td>5281.0</td>\n",
       "      <td>12236.347283</td>\n",
       "      <td>8103.456528</td>\n",
       "      <td>1000.0</td>\n",
       "      <td>6000.0</td>\n",
       "      <td>10000.0</td>\n",
       "      <td>16950.0</td>\n",
       "      <td>35000.0</td>\n",
       "    </tr>\n",
       "    <tr>\n",
       "      <th>Fully Paid</th>\n",
       "      <td>31566.0</td>\n",
       "      <td>10958.130584</td>\n",
       "      <td>7223.977380</td>\n",
       "      <td>500.0</td>\n",
       "      <td>5400.0</td>\n",
       "      <td>9600.0</td>\n",
       "      <td>15000.0</td>\n",
       "      <td>35000.0</td>\n",
       "    </tr>\n",
       "  </tbody>\n",
       "</table>\n",
       "</div>"
      ],
      "text/plain": [
       "               count          mean          std     min     25%      50%  \\\n",
       "loan_status                                                                \n",
       "Charged Off   5281.0  12236.347283  8103.456528  1000.0  6000.0  10000.0   \n",
       "Fully Paid   31566.0  10958.130584  7223.977380   500.0  5400.0   9600.0   \n",
       "\n",
       "                 75%      max  \n",
       "loan_status                    \n",
       "Charged Off  16950.0  35000.0  \n",
       "Fully Paid   15000.0  35000.0  "
      ]
     },
     "execution_count": 500,
     "metadata": {},
     "output_type": "execute_result"
    }
   ],
   "source": [
    "column_analysis(loan, 'int_rate')"
   ]
  },
  {
   "cell_type": "markdown",
   "id": "c7058dcc",
   "metadata": {},
   "source": [
    "### installment"
   ]
  },
  {
   "cell_type": "code",
   "execution_count": 516,
   "id": "37f071db",
   "metadata": {
    "scrolled": true
   },
   "outputs": [
    {
     "data": {
      "text/plain": [
       "count    36847.000000\n",
       "mean       324.694599\n",
       "std        208.886154\n",
       "min         16.080000\n",
       "25%        167.565000\n",
       "50%        280.000000\n",
       "75%        428.975000\n",
       "max       1305.190000\n",
       "Name: installment, dtype: float64"
      ]
     },
     "execution_count": 516,
     "metadata": {},
     "output_type": "execute_result"
    }
   ],
   "source": [
    "loan['installment'].describe()"
   ]
  },
  {
   "cell_type": "code",
   "execution_count": 521,
   "id": "3bc697f0",
   "metadata": {},
   "outputs": [
    {
     "data": {
      "image/png": "[encoded data removed]",
      "text/plain": [
       "<Figure size 864x216 with 2 Axes>"
      ]
     },
     "metadata": {
      "needs_background": "light"
     },
     "output_type": "display_data"
    },
    {
     "data": {
      "image/png": "[encoded data removed]",
      "text/plain": [
       "<Figure size 864x216 with 2 Axes>"
      ]
     },
     "metadata": {
      "needs_background": "light"
     },
     "output_type": "display_data"
    },
    {
     "data": {
      "image/png": "[encoded data removed]",
      "text/plain": [
       "<Figure size 864x216 with 2 Axes>"
      ]
     },
     "metadata": {
      "needs_background": "light"
     },
     "output_type": "display_data"
    },
    {
     "data": {
      "text/html": [
       "<div>\n",
       "<style scoped>\n",
       "    .dataframe tbody tr th:only-of-type {\n",
       "        vertical-align: middle;\n",
       "    }\n",
       "\n",
       "    .dataframe tbody tr th {\n",
       "        vertical-align: top;\n",
       "    }\n",
       "\n",
       "    .dataframe thead th {\n",
       "        text-align: right;\n",
       "    }\n",
       "</style>\n",
       "<table border=\"1\" class=\"dataframe\">\n",
       "  <thead>\n",
       "    <tr style=\"text-align: right;\">\n",
       "      <th></th>\n",
       "      <th>count</th>\n",
       "      <th>mean</th>\n",
       "      <th>std</th>\n",
       "      <th>min</th>\n",
       "      <th>25%</th>\n",
       "      <th>50%</th>\n",
       "      <th>75%</th>\n",
       "      <th>max</th>\n",
       "    </tr>\n",
       "    <tr>\n",
       "      <th>loan_status</th>\n",
       "      <th></th>\n",
       "      <th></th>\n",
       "      <th></th>\n",
       "      <th></th>\n",
       "      <th></th>\n",
       "      <th></th>\n",
       "      <th></th>\n",
       "      <th></th>\n",
       "    </tr>\n",
       "  </thead>\n",
       "  <tbody>\n",
       "    <tr>\n",
       "      <th>Charged Off</th>\n",
       "      <td>5281.0</td>\n",
       "      <td>12236.347283</td>\n",
       "      <td>8103.456528</td>\n",
       "      <td>1000.0</td>\n",
       "      <td>6000.0</td>\n",
       "      <td>10000.0</td>\n",
       "      <td>16950.0</td>\n",
       "      <td>35000.0</td>\n",
       "    </tr>\n",
       "    <tr>\n",
       "      <th>Fully Paid</th>\n",
       "      <td>31566.0</td>\n",
       "      <td>10958.130584</td>\n",
       "      <td>7223.977380</td>\n",
       "      <td>500.0</td>\n",
       "      <td>5400.0</td>\n",
       "      <td>9600.0</td>\n",
       "      <td>15000.0</td>\n",
       "      <td>35000.0</td>\n",
       "    </tr>\n",
       "  </tbody>\n",
       "</table>\n",
       "</div>"
      ],
      "text/plain": [
       "               count          mean          std     min     25%      50%  \\\n",
       "loan_status                                                                \n",
       "Charged Off   5281.0  12236.347283  8103.456528  1000.0  6000.0  10000.0   \n",
       "Fully Paid   31566.0  10958.130584  7223.977380   500.0  5400.0   9600.0   \n",
       "\n",
       "                 75%      max  \n",
       "loan_status                    \n",
       "Charged Off  16950.0  35000.0  \n",
       "Fully Paid   15000.0  35000.0  "
      ]
     },
     "execution_count": 521,
     "metadata": {},
     "output_type": "execute_result"
    }
   ],
   "source": [
    "column_analysis(loan, 'installment', 1.1)"
   ]
  },
  {
   "cell_type": "markdown",
   "id": "cec3e1f7",
   "metadata": {},
   "source": [
    "### annual_inc"
   ]
  },
  {
   "cell_type": "code",
   "execution_count": 452,
   "id": "2b4c0383",
   "metadata": {
    "scrolled": true
   },
   "outputs": [
    {
     "data": {
      "text/plain": [
       "count    3.684700e+04\n",
       "mean     6.940448e+04\n",
       "std      6.402747e+04\n",
       "min      4.000000e+03\n",
       "25%      4.100400e+04\n",
       "50%      6.000000e+04\n",
       "75%      8.300000e+04\n",
       "max      6.000000e+06\n",
       "Name: annual_inc, dtype: float64"
      ]
     },
     "execution_count": 452,
     "metadata": {},
     "output_type": "execute_result"
    }
   ],
   "source": [
    "loan['annual_inc'].describe()"
   ]
  },
  {
   "cell_type": "code",
   "execution_count": 501,
   "id": "266b5a67",
   "metadata": {
    "scrolled": false
   },
   "outputs": [
    {
     "data": {
      "image/png": "[encoded data removed]",
      "text/plain": [
       "<Figure size 864x216 with 2 Axes>"
      ]
     },
     "metadata": {
      "needs_background": "light"
     },
     "output_type": "display_data"
    },
    {
     "data": {
      "image/png": "[encoded data removed]",
      "text/plain": [
       "<Figure size 864x216 with 2 Axes>"
      ]
     },
     "metadata": {
      "needs_background": "light"
     },
     "output_type": "display_data"
    },
    {
     "data": {
      "image/png": "[encoded data removed]",
      "text/plain": [
       "<Figure size 864x216 with 2 Axes>"
      ]
     },
     "metadata": {
      "needs_background": "light"
     },
     "output_type": "display_data"
    },
    {
     "data": {
      "text/html": [
       "<div>\n",
       "<style scoped>\n",
       "    .dataframe tbody tr th:only-of-type {\n",
       "        vertical-align: middle;\n",
       "    }\n",
       "\n",
       "    .dataframe tbody tr th {\n",
       "        vertical-align: top;\n",
       "    }\n",
       "\n",
       "    .dataframe thead th {\n",
       "        text-align: right;\n",
       "    }\n",
       "</style>\n",
       "<table border=\"1\" class=\"dataframe\">\n",
       "  <thead>\n",
       "    <tr style=\"text-align: right;\">\n",
       "      <th></th>\n",
       "      <th>count</th>\n",
       "      <th>mean</th>\n",
       "      <th>std</th>\n",
       "      <th>min</th>\n",
       "      <th>25%</th>\n",
       "      <th>50%</th>\n",
       "      <th>75%</th>\n",
       "      <th>max</th>\n",
       "    </tr>\n",
       "    <tr>\n",
       "      <th>loan_status</th>\n",
       "      <th></th>\n",
       "      <th></th>\n",
       "      <th></th>\n",
       "      <th></th>\n",
       "      <th></th>\n",
       "      <th></th>\n",
       "      <th></th>\n",
       "      <th></th>\n",
       "    </tr>\n",
       "  </thead>\n",
       "  <tbody>\n",
       "    <tr>\n",
       "      <th>Charged Off</th>\n",
       "      <td>5281.0</td>\n",
       "      <td>12236.347283</td>\n",
       "      <td>8103.456528</td>\n",
       "      <td>1000.0</td>\n",
       "      <td>6000.0</td>\n",
       "      <td>10000.0</td>\n",
       "      <td>16950.0</td>\n",
       "      <td>35000.0</td>\n",
       "    </tr>\n",
       "    <tr>\n",
       "      <th>Fully Paid</th>\n",
       "      <td>31566.0</td>\n",
       "      <td>10958.130584</td>\n",
       "      <td>7223.977380</td>\n",
       "      <td>500.0</td>\n",
       "      <td>5400.0</td>\n",
       "      <td>9600.0</td>\n",
       "      <td>15000.0</td>\n",
       "      <td>35000.0</td>\n",
       "    </tr>\n",
       "  </tbody>\n",
       "</table>\n",
       "</div>"
      ],
      "text/plain": [
       "               count          mean          std     min     25%      50%  \\\n",
       "loan_status                                                                \n",
       "Charged Off   5281.0  12236.347283  8103.456528  1000.0  6000.0  10000.0   \n",
       "Fully Paid   31566.0  10958.130584  7223.977380   500.0  5400.0   9600.0   \n",
       "\n",
       "                 75%      max  \n",
       "loan_status                    \n",
       "Charged Off  16950.0  35000.0  \n",
       "Fully Paid   15000.0  35000.0  "
      ]
     },
     "execution_count": 501,
     "metadata": {},
     "output_type": "execute_result"
    }
   ],
   "source": [
    "column_analysis(loan, 'annual_inc', 0.87)"
   ]
  },
  {
   "cell_type": "markdown",
   "id": "0728a52e",
   "metadata": {},
   "source": [
    "### dti"
   ]
  },
  {
   "cell_type": "code",
   "execution_count": 506,
   "id": "24e11d73",
   "metadata": {
    "scrolled": true
   },
   "outputs": [
    {
     "data": {
      "text/plain": [
       "count    36847.000000\n",
       "mean        13.330449\n",
       "std          6.651565\n",
       "min          0.000000\n",
       "25%          8.210000\n",
       "50%         13.420000\n",
       "75%         18.590000\n",
       "max         29.990000\n",
       "Name: dti, dtype: float64"
      ]
     },
     "execution_count": 506,
     "metadata": {},
     "output_type": "execute_result"
    }
   ],
   "source": [
    "loan['dti'].describe()"
   ]
  },
  {
   "cell_type": "code",
   "execution_count": 507,
   "id": "fbba2710",
   "metadata": {
    "scrolled": false
   },
   "outputs": [
    {
     "data": {
      "image/png": "[encoded data removed]",
      "text/plain": [
       "<Figure size 864x216 with 2 Axes>"
      ]
     },
     "metadata": {
      "needs_background": "light"
     },
     "output_type": "display_data"
    },
    {
     "data": {
      "image/png": "[encoded data removed]",
      "text/plain": [
       "<Figure size 864x216 with 2 Axes>"
      ]
     },
     "metadata": {
      "needs_background": "light"
     },
     "output_type": "display_data"
    },
    {
     "data": {
      "image/png": "[encoded data removed]",
      "text/plain": [
       "<Figure size 864x216 with 2 Axes>"
      ]
     },
     "metadata": {
      "needs_background": "light"
     },
     "output_type": "display_data"
    },
    {
     "data": {
      "text/html": [
       "<div>\n",
       "<style scoped>\n",
       "    .dataframe tbody tr th:only-of-type {\n",
       "        vertical-align: middle;\n",
       "    }\n",
       "\n",
       "    .dataframe tbody tr th {\n",
       "        vertical-align: top;\n",
       "    }\n",
       "\n",
       "    .dataframe thead th {\n",
       "        text-align: right;\n",
       "    }\n",
       "</style>\n",
       "<table border=\"1\" class=\"dataframe\">\n",
       "  <thead>\n",
       "    <tr style=\"text-align: right;\">\n",
       "      <th></th>\n",
       "      <th>count</th>\n",
       "      <th>mean</th>\n",
       "      <th>std</th>\n",
       "      <th>min</th>\n",
       "      <th>25%</th>\n",
       "      <th>50%</th>\n",
       "      <th>75%</th>\n",
       "      <th>max</th>\n",
       "    </tr>\n",
       "    <tr>\n",
       "      <th>loan_status</th>\n",
       "      <th></th>\n",
       "      <th></th>\n",
       "      <th></th>\n",
       "      <th></th>\n",
       "      <th></th>\n",
       "      <th></th>\n",
       "      <th></th>\n",
       "      <th></th>\n",
       "    </tr>\n",
       "  </thead>\n",
       "  <tbody>\n",
       "    <tr>\n",
       "      <th>Charged Off</th>\n",
       "      <td>5281.0</td>\n",
       "      <td>12236.347283</td>\n",
       "      <td>8103.456528</td>\n",
       "      <td>1000.0</td>\n",
       "      <td>6000.0</td>\n",
       "      <td>10000.0</td>\n",
       "      <td>16950.0</td>\n",
       "      <td>35000.0</td>\n",
       "    </tr>\n",
       "    <tr>\n",
       "      <th>Fully Paid</th>\n",
       "      <td>31566.0</td>\n",
       "      <td>10958.130584</td>\n",
       "      <td>7223.977380</td>\n",
       "      <td>500.0</td>\n",
       "      <td>5400.0</td>\n",
       "      <td>9600.0</td>\n",
       "      <td>15000.0</td>\n",
       "      <td>35000.0</td>\n",
       "    </tr>\n",
       "  </tbody>\n",
       "</table>\n",
       "</div>"
      ],
      "text/plain": [
       "               count          mean          std     min     25%      50%  \\\n",
       "loan_status                                                                \n",
       "Charged Off   5281.0  12236.347283  8103.456528  1000.0  6000.0  10000.0   \n",
       "Fully Paid   31566.0  10958.130584  7223.977380   500.0  5400.0   9600.0   \n",
       "\n",
       "                 75%      max  \n",
       "loan_status                    \n",
       "Charged Off  16950.0  35000.0  \n",
       "Fully Paid   15000.0  35000.0  "
      ]
     },
     "execution_count": 507,
     "metadata": {},
     "output_type": "execute_result"
    }
   ],
   "source": [
    "column_analysis(loan, 'dti')"
   ]
  },
  {
   "cell_type": "markdown",
   "id": "227eea67",
   "metadata": {},
   "source": [
    "### term"
   ]
  },
  {
   "cell_type": "code",
   "execution_count": 428,
   "id": "4687e0fa",
   "metadata": {
    "scrolled": false
   },
   "outputs": [
    {
     "data": {
      "image/png": "[encoded data removed]",
      "text/plain": [
       "<Figure size 864x216 with 2 Axes>"
      ]
     },
     "metadata": {
      "needs_background": "light"
     },
     "output_type": "display_data"
    }
   ],
   "source": [
    "analysis_plots_v1(loan, 'term')"
   ]
  },
  {
   "cell_type": "markdown",
   "id": "adfd43a4",
   "metadata": {},
   "source": [
    "### grade"
   ]
  },
  {
   "cell_type": "code",
   "execution_count": 431,
   "id": "5b0272b5",
   "metadata": {
    "scrolled": true
   },
   "outputs": [
    {
     "data": {
      "text/plain": [
       "count     36847\n",
       "unique        7\n",
       "top           B\n",
       "freq      11150\n",
       "Name: grade, dtype: object"
      ]
     },
     "execution_count": 431,
     "metadata": {},
     "output_type": "execute_result"
    }
   ],
   "source": [
    "loan['grade'].describe()"
   ]
  },
  {
   "cell_type": "code",
   "execution_count": 449,
   "id": "e97ae888",
   "metadata": {
    "scrolled": false
   },
   "outputs": [
    {
     "data": {
      "image/png": "[encoded data removed]",
      "text/plain": [
       "<Figure size 864x216 with 2 Axes>"
      ]
     },
     "metadata": {
      "needs_background": "light"
     },
     "output_type": "display_data"
    }
   ],
   "source": [
    "analysis_plots_v1(loan, 'grade')"
   ]
  },
  {
   "cell_type": "markdown",
   "id": "e17c4e9f",
   "metadata": {},
   "source": [
    "### emp_length"
   ]
  },
  {
   "cell_type": "code",
   "execution_count": 515,
   "id": "cc5b7a5a",
   "metadata": {},
   "outputs": [
    {
     "data": {
      "image/png": "[encoded data removed]",
      "text/plain": [
       "<Figure size 864x216 with 2 Axes>"
      ]
     },
     "metadata": {
      "needs_background": "light"
     },
     "output_type": "display_data"
    }
   ],
   "source": [
    "analysis_plots_v1(loan, 'emp_length')"
   ]
  },
  {
   "cell_type": "markdown",
   "id": "922ca9d2",
   "metadata": {},
   "source": [
    "### home_ownership"
   ]
  },
  {
   "cell_type": "code",
   "execution_count": 450,
   "id": "7ae2ddd1",
   "metadata": {},
   "outputs": [
    {
     "data": {
      "text/plain": [
       "count     36847\n",
       "unique        4\n",
       "top        RENT\n",
       "freq      17698\n",
       "Name: home_ownership, dtype: object"
      ]
     },
     "execution_count": 450,
     "metadata": {},
     "output_type": "execute_result"
    }
   ],
   "source": [
    "loan['home_ownership'].describe()"
   ]
  },
  {
   "cell_type": "code",
   "execution_count": 451,
   "id": "4f6cd307",
   "metadata": {},
   "outputs": [
    {
     "data": {
      "image/png": "[encoded data removed]",
      "text/plain": [
       "<Figure size 864x216 with 2 Axes>"
      ]
     },
     "metadata": {
      "needs_background": "light"
     },
     "output_type": "display_data"
    }
   ],
   "source": [
    "analysis_plots_v1(loan, 'home_ownership')"
   ]
  },
  {
   "cell_type": "markdown",
   "id": "6c56486a",
   "metadata": {},
   "source": [
    "### purpose"
   ]
  },
  {
   "cell_type": "code",
   "execution_count": 502,
   "id": "f863421f",
   "metadata": {},
   "outputs": [
    {
     "data": {
      "text/plain": [
       "count                  36847\n",
       "unique                    14\n",
       "top       debt_consolidation\n",
       "freq                   17384\n",
       "Name: purpose, dtype: object"
      ]
     },
     "execution_count": 502,
     "metadata": {},
     "output_type": "execute_result"
    }
   ],
   "source": [
    "loan['purpose'].describe()"
   ]
  },
  {
   "cell_type": "code",
   "execution_count": 503,
   "id": "3a7ada2a",
   "metadata": {},
   "outputs": [
    {
     "data": {
      "image/png": "[encoded data removed]",
      "text/plain": [
       "<Figure size 864x216 with 2 Axes>"
      ]
     },
     "metadata": {
      "needs_background": "light"
     },
     "output_type": "display_data"
    }
   ],
   "source": [
    "analysis_plots_v1(loan, 'purpose')"
   ]
  },
  {
   "cell_type": "markdown",
   "id": "9973ad76",
   "metadata": {},
   "source": [
    "### addr_state"
   ]
  },
  {
   "cell_type": "code",
   "execution_count": 504,
   "id": "a1a2ce2b",
   "metadata": {},
   "outputs": [
    {
     "data": {
      "text/plain": [
       "count     36847\n",
       "unique       49\n",
       "top          CA\n",
       "freq       6685\n",
       "Name: addr_state, dtype: object"
      ]
     },
     "execution_count": 504,
     "metadata": {},
     "output_type": "execute_result"
    }
   ],
   "source": [
    "loan['addr_state'].describe()"
   ]
  },
  {
   "cell_type": "code",
   "execution_count": 505,
   "id": "c1eea479",
   "metadata": {},
   "outputs": [
    {
     "data": {
      "image/png": "[encoded data removed]",
      "text/plain": [
       "<Figure size 864x216 with 2 Axes>"
      ]
     },
     "metadata": {
      "needs_background": "light"
     },
     "output_type": "display_data"
    }
   ],
   "source": [
    "analysis_plots_v1(loan, 'addr_state')"
   ]
  },
  {
   "cell_type": "markdown",
   "id": "4a367d5f",
   "metadata": {},
   "source": [
    "### pub_rec_bankruptcies"
   ]
  },
  {
   "cell_type": "code",
   "execution_count": 478,
   "id": "f4589368",
   "metadata": {},
   "outputs": [
    {
     "data": {
      "image/png": "[encoded data removed]",
      "text/plain": [
       "<Figure size 864x216 with 2 Axes>"
      ]
     },
     "metadata": {
      "needs_background": "light"
     },
     "output_type": "display_data"
    }
   ],
   "source": [
    "analysis_plots_v1(loan, 'pub_rec_bankruptcies')"
   ]
  },
  {
   "cell_type": "markdown",
   "id": "c13cb8d2",
   "metadata": {},
   "source": [
    "### issue_y"
   ]
  },
  {
   "cell_type": "code",
   "execution_count": 511,
   "id": "5dff73b3",
   "metadata": {
    "scrolled": true
   },
   "outputs": [
    {
     "data": {
      "image/png": "[encoded data removed]",
      "text/plain": [
       "<Figure size 864x216 with 2 Axes>"
      ]
     },
     "metadata": {
      "needs_background": "light"
     },
     "output_type": "display_data"
    }
   ],
   "source": [
    "analysis_plots_v1(loan, 'issue_y')"
   ]
  },
  {
   "cell_type": "markdown",
   "id": "c2ecc72c",
   "metadata": {},
   "source": [
    "### issue_m"
   ]
  },
  {
   "cell_type": "code",
   "execution_count": 514,
   "id": "8efe46fb",
   "metadata": {},
   "outputs": [
    {
     "data": {
      "image/png": "[encoded data removed]",
      "text/plain": [
       "<Figure size 864x216 with 2 Axes>"
      ]
     },
     "metadata": {
      "needs_background": "light"
     },
     "output_type": "display_data"
    }
   ],
   "source": [
    "analysis_plots_v1(loan, 'issue_m')"
   ]
  }
 ],
 "metadata": {
  "kernelspec": {
   "display_name": "Python 3 (ipykernel)",
   "language": "python",
   "name": "python3"
  },
  "language_info": {
   "codemirror_mode": {
    "name": "ipython",
    "version": 3
   },
   "file_extension": ".py",
   "mimetype": "text/x-python",
   "name": "python",
   "nbconvert_exporter": "python",
   "pygments_lexer": "ipython3",
   "version": "3.9.12"
  }
 },
 "nbformat": 4,
 "nbformat_minor": 5
}
